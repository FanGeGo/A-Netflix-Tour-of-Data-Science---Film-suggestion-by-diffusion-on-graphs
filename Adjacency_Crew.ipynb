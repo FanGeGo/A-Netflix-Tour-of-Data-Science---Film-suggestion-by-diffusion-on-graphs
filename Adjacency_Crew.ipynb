{
 "cells": [
  {
   "cell_type": "markdown",
   "metadata": {},
   "source": [
    "# A Netflix Tour of Data Science - Film suggestion by diffusion on graphs\n",
    "# Adjacency - Crew"
   ]
  },
  {
   "cell_type": "markdown",
   "metadata": {},
   "source": [
    " "
   ]
  },
  {
   "cell_type": "markdown",
   "metadata": {},
   "source": [
    "### Students:\n",
    "\n",
    "    * Team     : 17\n",
    "    * Students : Edwige Avignon, Kenneth Nguyen, Pierre Fourcade  \n",
    "    * Dataset  : Kaggle dataset - Films and Crew"
   ]
  },
  {
   "cell_type": "markdown",
   "metadata": {},
   "source": [
    " "
   ]
  },
  {
   "cell_type": "markdown",
   "metadata": {},
   "source": [
    "## About this notebook:\n",
    "\n",
    "This notebook is used to create and export an adjacency matrix built from the crew of the movies.\n",
    "For that we use a dataset regrouping all the needed informations."
   ]
  },
  {
   "cell_type": "markdown",
   "metadata": {},
   "source": [
    "The goal here is to build a graph where the nodes represent the different movies of the dataset we are working with, and the edges are determined from the crew. The edges and their weights must represent how strong is the similarity between two movies, according to the informations we have about the crew.\n",
    "To build a meaningful adjacency matrix from the crew we have taken into account the following points:\n",
    "\n",
    "1. The crew in the dataset isn't mentioned in a specific order.\n",
    "2. If no crew informations are mentionned in the dataset the movie is considered as isolated.\n",
    "3. The weights are determined by the number of common person in the crew of two movies by only considering the following jobs : Director, Executive Producer and Original Music Composer. We have considered that those three jobs in the crew are the most emblematic and are the ones really defining the essence of the movie.\n",
    "\n",
    "The important point in the weights is not the value in itself, as we will normalize them afterwards, but the gap between the different levels that we have considered.\n",
    "We can also note that the graph we want to create is undirected."
   ]
  },
  {
   "cell_type": "markdown",
   "metadata": {},
   "source": [
    " "
   ]
  },
  {
   "cell_type": "markdown",
   "metadata": {},
   "source": [
    "## 0 - Libraries, database and usefull functions"
   ]
  },
  {
   "cell_type": "code",
   "execution_count": 1,
   "metadata": {},
   "outputs": [],
   "source": [
    "import numpy as np\n",
    "import pandas as pd\n",
    "import pygsp as pg\n",
    "import networkx as nx\n",
    "import matplotlib.pyplot as plt\n",
    "import ast\n",
    "from collections import Counter"
   ]
  },
  {
   "cell_type": "code",
   "execution_count": 2,
   "metadata": {},
   "outputs": [],
   "source": [
    "credits = pd.read_csv('Dataset_Exports/tmdb_5000_credits.csv')\n",
    "movies = pd.read_csv('Dataset_Exports/tmdb_5000_movies.csv')"
   ]
  },
  {
   "cell_type": "code",
   "execution_count": 3,
   "metadata": {},
   "outputs": [],
   "source": [
    "def convert_list(list_dict):\n",
    "    newdict={}\n",
    "    for k,v in [(key,d[key]) for d in \n",
    "    ast.literal_eval(list_dict) for key in d]:\n",
    "        if k not in newdict: newdict[k]=[v]\n",
    "        else: newdict[k].append(v)\n",
    "    return newdict"
   ]
  },
  {
   "cell_type": "code",
   "execution_count": 4,
   "metadata": {},
   "outputs": [],
   "source": [
    "def convert_dict_to_features(x):\n",
    "    try:\n",
    "        return x[k]\n",
    "    except:\n",
    "        return []"
   ]
  },
  {
   "cell_type": "code",
   "execution_count": 5,
   "metadata": {},
   "outputs": [],
   "source": [
    "def all_connected_nodes(adjacency):\n",
    "    connected_nodes = []\n",
    "    for i in range (len(adjacency)):\n",
    "        sum = np.sum(adjacency[i])\n",
    "        if sum != 0:\n",
    "            connected_nodes.append(i)\n",
    "    return np.array(connected_nodes)"
   ]
  },
  {
   "cell_type": "code",
   "execution_count": 6,
   "metadata": {},
   "outputs": [],
   "source": [
    "def remove_isolated_nodes(connected_nodes,adjacency):\n",
    "    adjacency_connected = np.zeros((len(connected_nodes),len(connected_nodes)))\n",
    "    for i in range (len(connected_nodes)):\n",
    "        for j in range (len(connected_nodes)):\n",
    "              adjacency_connected[i,j] = adjacency[connected_nodes[i],[connected_nodes[j]]] \n",
    "    return adjacency_connected"
   ]
  },
  {
   "cell_type": "markdown",
   "metadata": {},
   "source": [
    " "
   ]
  },
  {
   "cell_type": "markdown",
   "metadata": {},
   "source": [
    "## 1 - Adjacency - Crew"
   ]
  },
  {
   "cell_type": "markdown",
   "metadata": {},
   "source": [
    "Let's build the adjacency.\n",
    "\n",
    "For that, at first, we extract the crew from the dataset and we reduce the information to what we are interested in."
   ]
  },
  {
   "cell_type": "code",
   "execution_count": 7,
   "metadata": {},
   "outputs": [],
   "source": [
    "compact_dict = credits.crew.apply(lambda x: convert_list(x))\n",
    "for (k, v) in compact_dict[0].items():\n",
    "    credits[k] = compact_dict.apply(lambda x: convert_dict_to_features(x))"
   ]
  },
  {
   "cell_type": "code",
   "execution_count": 8,
   "metadata": {},
   "outputs": [],
   "source": [
    "credits.rename(columns={'id':'crew_id', 'name':'crew_name'},inplace=True)\n",
    "credits_restricted = credits[['movie_id', 'title', 'crew_id', 'job',]].copy()"
   ]
  },
  {
   "cell_type": "code",
   "execution_count": 9,
   "metadata": {},
   "outputs": [
    {
     "data": {
      "text/html": [
       "<div>\n",
       "<style scoped>\n",
       "    .dataframe tbody tr th:only-of-type {\n",
       "        vertical-align: middle;\n",
       "    }\n",
       "\n",
       "    .dataframe tbody tr th {\n",
       "        vertical-align: top;\n",
       "    }\n",
       "\n",
       "    .dataframe thead th {\n",
       "        text-align: right;\n",
       "    }\n",
       "</style>\n",
       "<table border=\"1\" class=\"dataframe\">\n",
       "  <thead>\n",
       "    <tr style=\"text-align: right;\">\n",
       "      <th></th>\n",
       "      <th>movie_id</th>\n",
       "      <th>title</th>\n",
       "      <th>crew_id</th>\n",
       "      <th>job</th>\n",
       "    </tr>\n",
       "  </thead>\n",
       "  <tbody>\n",
       "    <tr>\n",
       "      <th>0</th>\n",
       "      <td>19995</td>\n",
       "      <td>Avatar</td>\n",
       "      <td>[1721, 496, 900, 900, 1262, 1729, 2710, 2710, ...</td>\n",
       "      <td>[Editor, Production Design, Sound Designer, Su...</td>\n",
       "    </tr>\n",
       "    <tr>\n",
       "      <th>1</th>\n",
       "      <td>285</td>\n",
       "      <td>Pirates of the Caribbean: At World's End</td>\n",
       "      <td>[120, 1704, 770, 1705, 1706, 1721, 1722, 947, ...</td>\n",
       "      <td>[Director of Photography, Director, Producer, ...</td>\n",
       "    </tr>\n",
       "    <tr>\n",
       "      <th>2</th>\n",
       "      <td>206647</td>\n",
       "      <td>Spectre</td>\n",
       "      <td>[153, 39, 8384, 932, 932, 4248, 9856, 3904, 75...</td>\n",
       "      <td>[Original Music Composer, Director, Set Decora...</td>\n",
       "    </tr>\n",
       "    <tr>\n",
       "      <th>3</th>\n",
       "      <td>49026</td>\n",
       "      <td>The Dark Knight Rises</td>\n",
       "      <td>[947, 282, 525, 525, 525, 525, 527, 556, 559, ...</td>\n",
       "      <td>[Original Music Composer, Producer, Screenplay...</td>\n",
       "    </tr>\n",
       "    <tr>\n",
       "      <th>4</th>\n",
       "      <td>49529</td>\n",
       "      <td>John Carter</td>\n",
       "      <td>[7, 7, 7879, 490, 2073, 3996, 6958, 8158, 8166...</td>\n",
       "      <td>[Screenplay, Director, Thanks, Producer, Casti...</td>\n",
       "    </tr>\n",
       "  </tbody>\n",
       "</table>\n",
       "</div>"
      ],
      "text/plain": [
       "   movie_id                                     title  \\\n",
       "0     19995                                    Avatar   \n",
       "1       285  Pirates of the Caribbean: At World's End   \n",
       "2    206647                                   Spectre   \n",
       "3     49026                     The Dark Knight Rises   \n",
       "4     49529                               John Carter   \n",
       "\n",
       "                                             crew_id  \\\n",
       "0  [1721, 496, 900, 900, 1262, 1729, 2710, 2710, ...   \n",
       "1  [120, 1704, 770, 1705, 1706, 1721, 1722, 947, ...   \n",
       "2  [153, 39, 8384, 932, 932, 4248, 9856, 3904, 75...   \n",
       "3  [947, 282, 525, 525, 525, 525, 527, 556, 559, ...   \n",
       "4  [7, 7, 7879, 490, 2073, 3996, 6958, 8158, 8166...   \n",
       "\n",
       "                                                 job  \n",
       "0  [Editor, Production Design, Sound Designer, Su...  \n",
       "1  [Director of Photography, Director, Producer, ...  \n",
       "2  [Original Music Composer, Director, Set Decora...  \n",
       "3  [Original Music Composer, Producer, Screenplay...  \n",
       "4  [Screenplay, Director, Thanks, Producer, Casti...  "
      ]
     },
     "execution_count": 9,
     "metadata": {},
     "output_type": "execute_result"
    }
   ],
   "source": [
    "credits_restricted.head()"
   ]
  },
  {
   "cell_type": "code",
   "execution_count": 10,
   "metadata": {},
   "outputs": [],
   "source": [
    "# We reduce the information to only Director, Executive Producer and Original Music Composer:\n",
    "\n",
    "job_reduced = []\n",
    "crew_id_reduced = []\n",
    "\n",
    "for i in range (len(credits_restricted)):\n",
    "    job = []\n",
    "    crew_id = []\n",
    "    job_node  = np.array(credits_restricted.job[i])\n",
    "    crew_node = np.array(credits_restricted.crew_id[i])\n",
    "    for j in range (len(job_node)):\n",
    "        if job_node[j] == 'Original Music Composer' or job_node[j] == 'Executive Producer' or job_node[j] == 'Director':\n",
    "            job.append(job_node[j])\n",
    "            crew_id.append(crew_node[j])\n",
    "    job_reduced.append(job)\n",
    "    crew_id_reduced.append(crew_id)\n",
    "    \n",
    "credits_reduced = credits_restricted[['movie_id','title']].copy()\n",
    "credits_reduced['job_reduced'] = job_reduced\n",
    "credits_reduced['crew_id_reduced'] = crew_id_reduced                  "
   ]
  },
  {
   "cell_type": "code",
   "execution_count": 11,
   "metadata": {},
   "outputs": [
    {
     "data": {
      "text/html": [
       "<div>\n",
       "<style scoped>\n",
       "    .dataframe tbody tr th:only-of-type {\n",
       "        vertical-align: middle;\n",
       "    }\n",
       "\n",
       "    .dataframe tbody tr th {\n",
       "        vertical-align: top;\n",
       "    }\n",
       "\n",
       "    .dataframe thead th {\n",
       "        text-align: right;\n",
       "    }\n",
       "</style>\n",
       "<table border=\"1\" class=\"dataframe\">\n",
       "  <thead>\n",
       "    <tr style=\"text-align: right;\">\n",
       "      <th></th>\n",
       "      <th>movie_id</th>\n",
       "      <th>title</th>\n",
       "      <th>job_reduced</th>\n",
       "      <th>crew_id_reduced</th>\n",
       "    </tr>\n",
       "  </thead>\n",
       "  <tbody>\n",
       "    <tr>\n",
       "      <th>0</th>\n",
       "      <td>19995</td>\n",
       "      <td>Avatar</td>\n",
       "      <td>[Original Music Composer, Director, Executive ...</td>\n",
       "      <td>[1729, 2710, 20294]</td>\n",
       "    </tr>\n",
       "    <tr>\n",
       "      <th>1</th>\n",
       "      <td>285</td>\n",
       "      <td>Pirates of the Caribbean: At World's End</td>\n",
       "      <td>[Director, Original Music Composer, Executive ...</td>\n",
       "      <td>[1704, 947, 2444]</td>\n",
       "    </tr>\n",
       "    <tr>\n",
       "      <th>2</th>\n",
       "      <td>206647</td>\n",
       "      <td>Spectre</td>\n",
       "      <td>[Original Music Composer, Director, Executive ...</td>\n",
       "      <td>[153, 39, 10876]</td>\n",
       "    </tr>\n",
       "    <tr>\n",
       "      <th>3</th>\n",
       "      <td>49026</td>\n",
       "      <td>The Dark Knight Rises</td>\n",
       "      <td>[Original Music Composer, Director, Executive ...</td>\n",
       "      <td>[947, 525, 10949, 10951, 54211, 75804]</td>\n",
       "    </tr>\n",
       "    <tr>\n",
       "      <th>4</th>\n",
       "      <td>49529</td>\n",
       "      <td>John Carter</td>\n",
       "      <td>[Director]</td>\n",
       "      <td>[7]</td>\n",
       "    </tr>\n",
       "  </tbody>\n",
       "</table>\n",
       "</div>"
      ],
      "text/plain": [
       "   movie_id                                     title  \\\n",
       "0     19995                                    Avatar   \n",
       "1       285  Pirates of the Caribbean: At World's End   \n",
       "2    206647                                   Spectre   \n",
       "3     49026                     The Dark Knight Rises   \n",
       "4     49529                               John Carter   \n",
       "\n",
       "                                         job_reduced  \\\n",
       "0  [Original Music Composer, Director, Executive ...   \n",
       "1  [Director, Original Music Composer, Executive ...   \n",
       "2  [Original Music Composer, Director, Executive ...   \n",
       "3  [Original Music Composer, Director, Executive ...   \n",
       "4                                         [Director]   \n",
       "\n",
       "                          crew_id_reduced  \n",
       "0                     [1729, 2710, 20294]  \n",
       "1                       [1704, 947, 2444]  \n",
       "2                        [153, 39, 10876]  \n",
       "3  [947, 525, 10949, 10951, 54211, 75804]  \n",
       "4                                     [7]  "
      ]
     },
     "execution_count": 11,
     "metadata": {},
     "output_type": "execute_result"
    }
   ],
   "source": [
    "credits_reduced.head()"
   ]
  },
  {
   "cell_type": "markdown",
   "metadata": {},
   "source": [
    "Now that we have the id of the chosen members of the crews we can build the top-half of the adjacency. Indeed, as it is symmetrical in regards of the diagonal, it is faster to just mirror the top-half after."
   ]
  },
  {
   "cell_type": "code",
   "execution_count": 12,
   "metadata": {},
   "outputs": [
    {
     "data": {
      "text/plain": [
       "(4803, 4803)"
      ]
     },
     "execution_count": 12,
     "metadata": {},
     "output_type": "execute_result"
    }
   ],
   "source": [
    "adjacency_weighted = np.zeros((len(credits_reduced),len(credits_reduced)))\n",
    "adjacency = np.zeros((len(credits_reduced),len(credits_reduced)))\n",
    "np.shape(adjacency)"
   ]
  },
  {
   "cell_type": "code",
   "execution_count": 13,
   "metadata": {},
   "outputs": [],
   "source": [
    "# We build the top-half of the adjacency:\n",
    "\n",
    "for i in range (len(credits_reduced)):\n",
    "    node = np.array(credits_reduced.crew_id_reduced[i])\n",
    "    for j in range (i+1,len(credits_reduced)):\n",
    "        other_node = np.array(credits_reduced.crew_id_reduced[j])\n",
    "        if len(node) == 0 or len(other_node) == 0:\n",
    "            adjacency_weighted[i,j] = 0\n",
    "        elif len(node) == 1 or len(other_node) == 1:\n",
    "            if node[0] == other_node[0]:\n",
    "                adjacency_weighted[i,j] = 1\n",
    "            else:\n",
    "                adjacency_weighted[i,j] = 0\n",
    "        else:\n",
    "            match = 0\n",
    "            node = np.sort(node)\n",
    "            other_node = np.sort(other_node)\n",
    "            for k in range (len(node)):\n",
    "                for l in range (len(other_node)):\n",
    "                    if node[k] == other_node[l]:\n",
    "                        match = match + 1\n",
    "                        break\n",
    "            adjacency_weighted[i,j] = match"
   ]
  },
  {
   "cell_type": "code",
   "execution_count": 14,
   "metadata": {},
   "outputs": [
    {
     "data": {
      "text/plain": [
       "<matplotlib.image.AxesImage at 0x242aca95208>"
      ]
     },
     "execution_count": 14,
     "metadata": {},
     "output_type": "execute_result"
    },
    {
     "data": {
      "image/png": "[encoded data removed]",
      "text/plain": [
       "<Figure size 432x288 with 1 Axes>"
      ]
     },
     "metadata": {},
     "output_type": "display_data"
    }
   ],
   "source": [
    "plt.spy(adjacency_weighted)"
   ]
  },
  {
   "cell_type": "code",
   "execution_count": 15,
   "metadata": {},
   "outputs": [],
   "source": [
    "# We complete the low-half of the adjacency:\n",
    "\n",
    "for i in range (len(credits_restricted)):\n",
    "    for j in range (i+1,len(credits_restricted)):\n",
    "        adjacency_weighted[j,i] = adjacency_weighted[i,j]"
   ]
  },
  {
   "cell_type": "code",
   "execution_count": 16,
   "metadata": {},
   "outputs": [],
   "source": [
    "# We also build an unweighted adjacency:\n",
    "\n",
    "for i in range (len(adjacency)):\n",
    "    for j in range (len(adjacency)):\n",
    "        if adjacency_weighted[i,j] != 0:\n",
    "            adjacency[i,j] = 1"
   ]
  },
  {
   "cell_type": "code",
   "execution_count": 17,
   "metadata": {},
   "outputs": [],
   "source": [
    "# We save the adjacency\n",
    "\n",
    "np.savetxt('Dataset_Exports/Crew/Adjacency_Crew_Weighted.txt', adjacency_weighted)\n",
    "np.savetxt('Dataset_Exports/Crew/Adjacency_Crew.txt', adjacency)"
   ]
  },
  {
   "cell_type": "markdown",
   "metadata": {},
   "source": [
    "Let's normalize the weights."
   ]
  },
  {
   "cell_type": "code",
   "execution_count": 18,
   "metadata": {},
   "outputs": [],
   "source": [
    "adjacency_weighted_normalized = np.zeros((len(adjacency_weighted),len(adjacency_weighted)))"
   ]
  },
  {
   "cell_type": "code",
   "execution_count": 19,
   "metadata": {},
   "outputs": [],
   "source": [
    "# We normalize the weights:\n",
    "\n",
    "max_weight = np.max(adjacency_weighted)\n",
    "\n",
    "for i in range (len(adjacency_weighted_normalized)):\n",
    "    for j in range (len(adjacency_weighted_normalized)):\n",
    "        if adjacency_weighted[i,j] == 0:\n",
    "            adjacency_weighted_normalized[i,j] = 0\n",
    "        else:\n",
    "            adjacency_weighted_normalized[i,j] = adjacency_weighted[i,j]/max_weight"
   ]
  },
  {
   "cell_type": "code",
   "execution_count": 20,
   "metadata": {},
   "outputs": [
    {
     "data": {
      "text/plain": [
       "<matplotlib.image.AxesImage at 0x242ae1263c8>"
      ]
     },
     "execution_count": 20,
     "metadata": {},
     "output_type": "execute_result"
    },
    {
     "data": {
      "image/png": "[encoded data removed]",
      "text/plain": [
       "<Figure size 432x288 with 1 Axes>"
      ]
     },
     "metadata": {},
     "output_type": "display_data"
    }
   ],
   "source": [
    "plt.spy(adjacency_weighted_normalized)"
   ]
  },
  {
   "cell_type": "code",
   "execution_count": 21,
   "metadata": {},
   "outputs": [],
   "source": [
    "np.savetxt('Dataset_Exports/Crew/Adjacency_Crew_Weighted_Normalized.txt', adjacency_weighted_normalized)"
   ]
  },
  {
   "cell_type": "markdown",
   "metadata": {},
   "source": [
    " "
   ]
  },
  {
   "cell_type": "markdown",
   "metadata": {},
   "source": [
    "## 2 - Exporting the graph for Gephi (by using Networkx)"
   ]
  },
  {
   "cell_type": "markdown",
   "metadata": {},
   "source": [
    "Now we will create the graph of the adjacency we have built. We can quickly represent it here with Networkx but the core of our observations will be made with Gephi."
   ]
  },
  {
   "cell_type": "code",
   "execution_count": 22,
   "metadata": {},
   "outputs": [],
   "source": [
    "adjacency_weighted_normalized = np.loadtxt('Dataset_Exports/Crew/Adjacency_Crew_Weighted_Normalized.txt')"
   ]
  },
  {
   "cell_type": "code",
   "execution_count": 23,
   "metadata": {},
   "outputs": [],
   "source": [
    "Graph = nx.from_numpy_array(adjacency_weighted_normalized)"
   ]
  },
  {
   "cell_type": "code",
   "execution_count": 24,
   "metadata": {},
   "outputs": [
    {
     "name": "stderr",
     "output_type": "stream",
     "text": [
      "D:\\Programmes_DD\\Applications\\Anaconda3\\envs\\ntds_2018\\lib\\site-packages\\networkx\\drawing\\nx_pylab.py:611: MatplotlibDeprecationWarning: isinstance(..., numbers.Number)\n",
      "  if cb.is_numlike(alpha):\n"
     ]
    },
    {
     "data": {
      "image/png": "[encoded data removed]",
      "text/plain": [
       "<Figure size 432x288 with 1 Axes>"
      ]
     },
     "metadata": {},
     "output_type": "display_data"
    }
   ],
   "source": [
    "nx.draw_spring(Graph)"
   ]
  },
  {
   "cell_type": "code",
   "execution_count": 25,
   "metadata": {},
   "outputs": [],
   "source": [
    "nx.write_gexf(Graph,'Dataset_Exports/Crew/Graph_Crew.gexf')"
   ]
  }
 ],
 "metadata": {
  "kernelspec": {
   "display_name": "Python 3",
   "language": "python",
   "name": "python3"
  },
  "language_info": {
   "codemirror_mode": {
    "name": "ipython",
    "version": 3
   },
   "file_extension": ".py",
   "mimetype": "text/x-python",
   "name": "python",
   "nbconvert_exporter": "python",
   "pygments_lexer": "ipython3",
   "version": "3.6.6"
  }
 },
 "nbformat": 4,
 "nbformat_minor": 2
}
