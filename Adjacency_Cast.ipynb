{
 "cells": [
  {
   "cell_type": "markdown",
   "metadata": {},
   "source": [
    "# A Netflix Tour of Data Science - Film suggestion by diffusion on graphs\n",
    "# Adjacency - Cast"
   ]
  },
  {
   "cell_type": "markdown",
   "metadata": {},
   "source": [
    " "
   ]
  },
  {
   "cell_type": "markdown",
   "metadata": {},
   "source": [
    "### Students:\n",
    "\n",
    "    * Team     : 17\n",
    "    * Students : Edwige Avignon, Kenneth Nguyen, Pierre Fourcade  \n",
    "    * Dataset  : Kaggle dataset - Films and Crew"
   ]
  },
  {
   "cell_type": "markdown",
   "metadata": {},
   "source": [
    " "
   ]
  },
  {
   "cell_type": "markdown",
   "metadata": {},
   "source": [
    "## About this notebook:\n",
    "\n",
    "This notebook is used to create and export an adjacency matrix built from the cast of the movies.\n",
    "For that we use a dataset regrouping all the needed informations."
   ]
  },
  {
   "cell_type": "markdown",
   "metadata": {},
   "source": [
    "The goal here is to build a graph where the nodes represent the different movies of the dataset we are working with, and the edges are determined from the cast. The edges and their weights must represent how strong is the similarity between two movies, according to the informations we have about the cast.\n",
    "To build a meaningful adjacency matrix from the cast we have taken into account the following points:\n",
    "\n",
    "1. The cast in the dataset is mentioned in a specific order: from the most important (main actors) to the least important roles (extra).\n",
    "2. In this case we will only consider the 10 first actors mentioned. After this number we have considered that they do not have a role meaningful enough to be searched.\n",
    "3. If no cast is mentioned in the database the movie is considered as an isolated node.\n",
    "4. The weights are determined by the number of common actors in the extracted part of the cast:\n",
    "    - 0 actors in common: the nodes are not connected\n",
    "    - 1 to 3 actors in common: (common actors) x (unit weight)\n",
    "    - 4 to 7 actors in common: (6 x (unitweight)) + [((common actors) - 4) x (unit weight)] = (2 + (common actors)) x (unit weight)\n",
    "    - 8 to 10 actors in common : (18 x (unit weight)) + [((common actors)  8) x (unit weight)] = (10 + (common actors)) x (unit weight)\n",
    "\n",
    "The important point in the weights is not the value in itself, as we will normalize them afterwards, but the gap between the different levels that we have considered.\n",
    "We can also note that the graph we want to create is undirected."
   ]
  },
  {
   "cell_type": "markdown",
   "metadata": {},
   "source": [
    " "
   ]
  },
  {
   "cell_type": "markdown",
   "metadata": {},
   "source": [
    "## 0 - Libraries, database and usefull functions"
   ]
  },
  {
   "cell_type": "code",
   "execution_count": 1,
   "metadata": {},
   "outputs": [],
   "source": [
    "import numpy as np\n",
    "import pandas as pd\n",
    "import pygsp as pg\n",
    "import networkx as nx\n",
    "import matplotlib.pyplot as plt\n",
    "import ast\n",
    "from collections import Counter"
   ]
  },
  {
   "cell_type": "code",
   "execution_count": 2,
   "metadata": {},
   "outputs": [],
   "source": [
    "credits = pd.read_csv('Dataset_Exports/tmdb_5000_credits.csv')\n",
    "movies = pd.read_csv('Dataset_Exports/tmdb_5000_movies.csv')"
   ]
  },
  {
   "cell_type": "code",
   "execution_count": 3,
   "metadata": {},
   "outputs": [],
   "source": [
    "def convert_list(list_dict):\n",
    "    newdict={}\n",
    "    for k,v in [(key,d[key]) for d in \n",
    "    ast.literal_eval(list_dict) for key in d]:\n",
    "        if k not in newdict: newdict[k]=[v]\n",
    "        else: newdict[k].append(v)\n",
    "    return newdict"
   ]
  },
  {
   "cell_type": "code",
   "execution_count": 4,
   "metadata": {},
   "outputs": [],
   "source": [
    "def convert_dict_to_features(x):\n",
    "    try:\n",
    "        return x[k]\n",
    "    except:\n",
    "        return []"
   ]
  },
  {
   "cell_type": "code",
   "execution_count": 5,
   "metadata": {},
   "outputs": [],
   "source": [
    "def all_connected_nodes(adjacency):\n",
    "    connected_nodes = []\n",
    "    for i in range (len(adjacency)):\n",
    "        sum = np.sum(adjacency[i])\n",
    "        if sum != 0:\n",
    "            connected_nodes.append(i)\n",
    "    return np.array(connected_nodes)"
   ]
  },
  {
   "cell_type": "code",
   "execution_count": 6,
   "metadata": {},
   "outputs": [],
   "source": [
    "def remove_isolated_nodes(connected_nodes,adjacency):\n",
    "    adjacency_connected = np.zeros((len(connected_nodes),len(connected_nodes)))\n",
    "    for i in range (len(connected_nodes)):\n",
    "        for j in range (len(connected_nodes)):\n",
    "              adjacency_connected[i,j] = adjacency[connected_nodes[i],[connected_nodes[j]]] \n",
    "    return adjacency_connected"
   ]
  },
  {
   "cell_type": "markdown",
   "metadata": {},
   "source": [
    " "
   ]
  },
  {
   "cell_type": "markdown",
   "metadata": {},
   "source": [
    "## 1 - Adjacency - Cast"
   ]
  },
  {
   "cell_type": "markdown",
   "metadata": {},
   "source": [
    "Let's build the adjacency.\n",
    "\n",
    "For that we need, at first, to extract the cast from the dataset."
   ]
  },
  {
   "cell_type": "code",
   "execution_count": 7,
   "metadata": {},
   "outputs": [],
   "source": [
    "compact_dict = credits.cast.apply(lambda x: convert_list(x))\n",
    "for (k, v) in compact_dict[0].items():\n",
    "    credits[k] = compact_dict.apply(lambda x: convert_dict_to_features(x))"
   ]
  },
  {
   "cell_type": "code",
   "execution_count": 8,
   "metadata": {},
   "outputs": [],
   "source": [
    "credits.rename(columns={'id':'actors_id', 'name':'actors_name'},inplace=True)\n",
    "credits_restricted = credits[['movie_id', 'title', 'actors_name', 'actors_id',]].copy()"
   ]
  },
  {
   "cell_type": "code",
   "execution_count": 9,
   "metadata": {},
   "outputs": [
    {
     "data": {
      "text/html": [
       "<div>\n",
       "<style scoped>\n",
       "    .dataframe tbody tr th:only-of-type {\n",
       "        vertical-align: middle;\n",
       "    }\n",
       "\n",
       "    .dataframe tbody tr th {\n",
       "        vertical-align: top;\n",
       "    }\n",
       "\n",
       "    .dataframe thead th {\n",
       "        text-align: right;\n",
       "    }\n",
       "</style>\n",
       "<table border=\"1\" class=\"dataframe\">\n",
       "  <thead>\n",
       "    <tr style=\"text-align: right;\">\n",
       "      <th></th>\n",
       "      <th>movie_id</th>\n",
       "      <th>title</th>\n",
       "      <th>actors_name</th>\n",
       "      <th>actors_id</th>\n",
       "    </tr>\n",
       "  </thead>\n",
       "  <tbody>\n",
       "    <tr>\n",
       "      <th>0</th>\n",
       "      <td>19995</td>\n",
       "      <td>Avatar</td>\n",
       "      <td>[Sam Worthington, Zoe Saldana, Sigourney Weave...</td>\n",
       "      <td>[65731, 8691, 10205, 32747, 17647, 1771, 59231...</td>\n",
       "    </tr>\n",
       "    <tr>\n",
       "      <th>1</th>\n",
       "      <td>285</td>\n",
       "      <td>Pirates of the Caribbean: At World's End</td>\n",
       "      <td>[Johnny Depp, Orlando Bloom, Keira Knightley, ...</td>\n",
       "      <td>[85, 114, 116, 1640, 1619, 2440, 118, 1709, 24...</td>\n",
       "    </tr>\n",
       "    <tr>\n",
       "      <th>2</th>\n",
       "      <td>206647</td>\n",
       "      <td>Spectre</td>\n",
       "      <td>[Daniel Craig, Christoph Waltz, Léa Seydoux, R...</td>\n",
       "      <td>[8784, 27319, 121529, 5469, 28782, 17064, 2038...</td>\n",
       "    </tr>\n",
       "    <tr>\n",
       "      <th>3</th>\n",
       "      <td>49026</td>\n",
       "      <td>The Dark Knight Rises</td>\n",
       "      <td>[Christian Bale, Michael Caine, Gary Oldman, A...</td>\n",
       "      <td>[3894, 3895, 64, 1813, 2524, 8293, 24045, 192,...</td>\n",
       "    </tr>\n",
       "    <tr>\n",
       "      <th>4</th>\n",
       "      <td>49529</td>\n",
       "      <td>John Carter</td>\n",
       "      <td>[Taylor Kitsch, Lynn Collins, Samantha Morton,...</td>\n",
       "      <td>[60900, 21044, 2206, 5293, 19159, 2983, 8785, ...</td>\n",
       "    </tr>\n",
       "  </tbody>\n",
       "</table>\n",
       "</div>"
      ],
      "text/plain": [
       "   movie_id                                     title  \\\n",
       "0     19995                                    Avatar   \n",
       "1       285  Pirates of the Caribbean: At World's End   \n",
       "2    206647                                   Spectre   \n",
       "3     49026                     The Dark Knight Rises   \n",
       "4     49529                               John Carter   \n",
       "\n",
       "                                         actors_name  \\\n",
       "0  [Sam Worthington, Zoe Saldana, Sigourney Weave...   \n",
       "1  [Johnny Depp, Orlando Bloom, Keira Knightley, ...   \n",
       "2  [Daniel Craig, Christoph Waltz, Léa Seydoux, R...   \n",
       "3  [Christian Bale, Michael Caine, Gary Oldman, A...   \n",
       "4  [Taylor Kitsch, Lynn Collins, Samantha Morton,...   \n",
       "\n",
       "                                           actors_id  \n",
       "0  [65731, 8691, 10205, 32747, 17647, 1771, 59231...  \n",
       "1  [85, 114, 116, 1640, 1619, 2440, 118, 1709, 24...  \n",
       "2  [8784, 27319, 121529, 5469, 28782, 17064, 2038...  \n",
       "3  [3894, 3895, 64, 1813, 2524, 8293, 24045, 192,...  \n",
       "4  [60900, 21044, 2206, 5293, 19159, 2983, 8785, ...  "
      ]
     },
     "execution_count": 9,
     "metadata": {},
     "output_type": "execute_result"
    }
   ],
   "source": [
    "credits_restricted.head()"
   ]
  },
  {
   "cell_type": "markdown",
   "metadata": {},
   "source": [
    "Now that we have the id of the different actors we can build the top-half of the adjacency. Indeed, as it is symmetrical in regards of the diagonal, it is faster to just mirror the top-half after."
   ]
  },
  {
   "cell_type": "code",
   "execution_count": 10,
   "metadata": {},
   "outputs": [
    {
     "data": {
      "text/plain": [
       "(4803, 4803)"
      ]
     },
     "execution_count": 10,
     "metadata": {},
     "output_type": "execute_result"
    }
   ],
   "source": [
    "adjacency_weighted = np.zeros((len(credits_restricted),len(credits_restricted)))\n",
    "adjacency = np.zeros((len(credits_restricted),len(credits_restricted)))\n",
    "np.shape(adjacency)"
   ]
  },
  {
   "cell_type": "code",
   "execution_count": 11,
   "metadata": {},
   "outputs": [],
   "source": [
    "# We build the top-half of the adjacency:\n",
    "\n",
    "for i in range (len(credits_restricted)):\n",
    "    node = np.array(credits_restricted.actors_id[i][0:10])\n",
    "    for j in range (i+1,len(credits_restricted)):\n",
    "        other_node = np.array(credits_restricted.actors_id[j][0:10])\n",
    "        if len(node) == 0 or len(other_node) == 0:\n",
    "            adjacency_weighted[i,j] == 0\n",
    "        else:\n",
    "            common_actors = 0\n",
    "            for k in range (len(node)):\n",
    "                for l in range (len(other_node)):\n",
    "                    if node[k] == other_node[l]:\n",
    "                        common_actors = common_actors + 1\n",
    "            if common_actors == 0:\n",
    "                adjacency_weighted[i,j] = 0\n",
    "            elif common_actors >= 1 and common_actors <= 3:\n",
    "                adjacency_weighted[i,j] = common_actors\n",
    "            elif common_actors >= 4 and common_actors <= 7:\n",
    "                adjacency_weighted[i,j] = 2 + common_actors\n",
    "            else:\n",
    "                adjacency_weighted[i,j] = 10 + common_actors"
   ]
  },
  {
   "cell_type": "code",
   "execution_count": 12,
   "metadata": {},
   "outputs": [
    {
     "data": {
      "text/plain": [
       "<matplotlib.image.AxesImage at 0x293634e12e8>"
      ]
     },
     "execution_count": 12,
     "metadata": {},
     "output_type": "execute_result"
    },
    {
     "data": {
      "image/png": "[encoded data removed]",
      "text/plain": [
       "<Figure size 432x288 with 1 Axes>"
      ]
     },
     "metadata": {},
     "output_type": "display_data"
    }
   ],
   "source": [
    "plt.spy(adjacency_weighted)"
   ]
  },
  {
   "cell_type": "code",
   "execution_count": 13,
   "metadata": {},
   "outputs": [],
   "source": [
    "# We complete the low-half of the adjacency:\n",
    "\n",
    "for i in range (len(credits_restricted)):\n",
    "    for j in range (i+1,len(credits_restricted)):\n",
    "        adjacency_weighted[j,i] = adjacency_weighted[i,j]"
   ]
  },
  {
   "cell_type": "code",
   "execution_count": 14,
   "metadata": {},
   "outputs": [],
   "source": [
    "# We also build an unweighted adjacency:\n",
    "\n",
    "for i in range (len(adjacency)):\n",
    "    for j in range (len(adjacency)):\n",
    "        if adjacency_weighted[i,j] != 0:\n",
    "            adjacency[i,j] = 1"
   ]
  },
  {
   "cell_type": "code",
   "execution_count": 15,
   "metadata": {},
   "outputs": [],
   "source": [
    "# We save the adjacency:\n",
    "\n",
    "np.savetxt('Dataset_Exports/Cast/Adjacency_Cast_Weighted.txt', adjacency_weighted)\n",
    "np.savetxt('Dataset_Exports/Cast/Adjacency_Cast.txt', adjacency)"
   ]
  },
  {
   "cell_type": "markdown",
   "metadata": {},
   "source": [
    "Let's normalize the weights."
   ]
  },
  {
   "cell_type": "code",
   "execution_count": 16,
   "metadata": {},
   "outputs": [],
   "source": [
    "adjacency_weighted_normalized = np.zeros((len(adjacency_weighted),len(adjacency_weighted)))"
   ]
  },
  {
   "cell_type": "code",
   "execution_count": 17,
   "metadata": {},
   "outputs": [],
   "source": [
    "# We normalize the weights:\n",
    "\n",
    "max_weight = np.max(adjacency_weighted)\n",
    "\n",
    "for i in range (len(adjacency_weighted_normalized)):\n",
    "    for j in range (len(adjacency_weighted_normalized)):\n",
    "        if adjacency_weighted[i,j] == 0:\n",
    "            adjacency_weighted_normalized[i,j] = 0\n",
    "        else:\n",
    "            adjacency_weighted_normalized[i,j] = adjacency_weighted[i,j]/max_weight"
   ]
  },
  {
   "cell_type": "code",
   "execution_count": 18,
   "metadata": {},
   "outputs": [
    {
     "data": {
      "text/plain": [
       "<matplotlib.image.AxesImage at 0x29364b89400>"
      ]
     },
     "execution_count": 18,
     "metadata": {},
     "output_type": "execute_result"
    },
    {
     "data": {
      "image/png": "[encoded data removed]",
      "text/plain": [
       "<Figure size 432x288 with 1 Axes>"
      ]
     },
     "metadata": {},
     "output_type": "display_data"
    }
   ],
   "source": [
    "plt.spy(adjacency_weighted_normalized)"
   ]
  },
  {
   "cell_type": "code",
   "execution_count": 19,
   "metadata": {},
   "outputs": [],
   "source": [
    "np.savetxt('Dataset_Exports/Cast/Adjacency_Cast_Weighted_Normalized.txt', adjacency_weighted_normalized)"
   ]
  },
  {
   "cell_type": "markdown",
   "metadata": {},
   "source": [
    " "
   ]
  },
  {
   "cell_type": "markdown",
   "metadata": {},
   "source": [
    "## 2 - Exporting the graph for Gephi (by using Networkx)"
   ]
  },
  {
   "cell_type": "markdown",
   "metadata": {},
   "source": [
    "Now we will create the graph of the adjacency we have built. We can quickly represent it here with Networkx but the core of our observations will be made with Gephi."
   ]
  },
  {
   "cell_type": "code",
   "execution_count": 20,
   "metadata": {},
   "outputs": [],
   "source": [
    "adjacency_weighted_normalized = np.loadtxt('Dataset_Exports/Cast/Adjacency_Cast_Weighted_Normalized.txt')"
   ]
  },
  {
   "cell_type": "code",
   "execution_count": 21,
   "metadata": {},
   "outputs": [],
   "source": [
    "Graph = nx.from_numpy_array(adjacency_weighted_normalized)"
   ]
  },
  {
   "cell_type": "code",
   "execution_count": 22,
   "metadata": {},
   "outputs": [
    {
     "name": "stderr",
     "output_type": "stream",
     "text": [
      "D:\\Programmes_DD\\Applications\\Anaconda3\\envs\\ntds_2018\\lib\\site-packages\\networkx\\drawing\\nx_pylab.py:611: MatplotlibDeprecationWarning: isinstance(..., numbers.Number)\n",
      "  if cb.is_numlike(alpha):\n"
     ]
    },
    {
     "data": {
      "image/png": "[encoded data removed]",
      "text/plain": [
       "<Figure size 432x288 with 1 Axes>"
      ]
     },
     "metadata": {},
     "output_type": "display_data"
    }
   ],
   "source": [
    "nx.draw_spring(Graph)"
   ]
  },
  {
   "cell_type": "code",
   "execution_count": 23,
   "metadata": {},
   "outputs": [],
   "source": [
    "nx.write_gexf(Graph,'Dataset_Exports/Cast/Graph_Cast.gexf')"
   ]
  },
  {
   "cell_type": "code",
   "execution_count": null,
   "metadata": {},
   "outputs": [],
   "source": []
  }
 ],
 "metadata": {
  "kernelspec": {
   "display_name": "Python 3",
   "language": "python",
   "name": "python3"
  },
  "language_info": {
   "codemirror_mode": {
    "name": "ipython",
    "version": 3
   },
   "file_extension": ".py",
   "mimetype": "text/x-python",
   "name": "python",
   "nbconvert_exporter": "python",
   "pygments_lexer": "ipython3",
   "version": "3.6.6"
  }
 },
 "nbformat": 4,
 "nbformat_minor": 2
}
