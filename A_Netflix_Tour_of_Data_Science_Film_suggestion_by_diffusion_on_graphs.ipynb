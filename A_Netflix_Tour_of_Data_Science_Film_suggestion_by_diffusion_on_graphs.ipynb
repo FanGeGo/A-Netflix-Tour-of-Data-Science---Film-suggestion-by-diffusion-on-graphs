{
 "cells": [
  {
   "cell_type": "markdown",
   "metadata": {},
   "source": [
    "# A Netflix Tour of Data Science - Film suggestion by diffusion on graphs\n",
    "# Main notebook"
   ]
  },
  {
   "cell_type": "markdown",
   "metadata": {},
   "source": [
    " "
   ]
  },
  {
   "cell_type": "markdown",
   "metadata": {},
   "source": [
    "### Students:\n",
    "\n",
    "    * Team     : 17\n",
    "    * Students : Edwige Avignon, Kenneth Nguyen, Pierre Fourcade  \n",
    "    * Dataset  : Kaggle dataset - Films and Crew"
   ]
  },
  {
   "cell_type": "markdown",
   "metadata": {},
   "source": [
    "### Introduction:\n",
    "\n",
    "Nowadays, most of the streaming platforms propose a targeted service that suggests you the films/series that you might enjoy according to the films/series that you have already watched. For instance Netflix proposes this kind of service and their proposals are often very accurate.\n",
    "Imagine now that you are a modest student, you cannot afford those services but you do not want to spend your Saturday evening looking for a film instead of watching it. However, you have followed a course in Data Science and you wonder if you can finally get rid of this time loss by imagining a system that would target for you the films you would like.\n",
    "One may think that the scenario, the performance of the actors and the depth of the story are important criteria to know if someone is going to enjoy the film or not... but then, realizing that “Furious 7” was ranked 7, “Transformers: Dark of the Moon” was ranked 20 in a [list of highest-grossing films](https://en.wikipedia.org/wiki/List_of_highest-grossing_films), we wondered if simpler criteria (such as the cast, the crew, the genre, the budget, the advertising...) were not more critical in the valuation of the film. The main idea that we are going to use here is that if you liked (resp. disliked) a film with a particular cast, crew, genre, you might also like (resp. dislike) a film presenting similar features.\n",
    "\n",
    "To get an idea of how are the similarities between every films we can use graphs. Indeed when we are building graphs we are making strong, weak or no connections between nodes to represent how similar two nodes on the graph are. Those connections are the edges and the force of those connections are the weights. Thus we can build several adjacency matrices representing the similarities of the films (nodes) for different features. From here we want to analyse and predict the likings of someone called “user”. A user can only inform us if he liked or not a film with a vote between 0 and 10 (10 being that he loved the film). Then to predict the likings of this user, our idea is to combine the graph with the signal representing the average of the vote given by all users, the signal representing our particular user votes. Our user has only seen a few films and his votes propagate to the closest neighbours using diffusion with a heat-kernel slightly modified to make sense in this subject. This would create a personalized signal for this user based on the average rating of the others (because it would takes too long for the users to watch enough films to have relevant proposals)."
   ]
  },
  {
   "cell_type": "markdown",
   "metadata": {},
   "source": [
    " "
   ]
  },
  {
   "cell_type": "markdown",
   "metadata": {},
   "source": [
    "### Objectives:\n",
    "\n",
    "Here are the different objectives that we have for this project:\n",
    "\n",
    "- Build different weighted adjacency matrices for the features that we are considering representing correctly the similarity between the movies.\n",
    "- Model a diffusion of a single node on a graph while considering a base signal already present on the graph.\n",
    "- Analyse the results and observe them on Gephi.\n",
    "- Conclude on the model we have chosen."
   ]
  },
  {
   "cell_type": "markdown",
   "metadata": {},
   "source": [
    " "
   ]
  },
  {
   "cell_type": "markdown",
   "metadata": {},
   "source": [
    "### Organization:\n",
    "\n",
    "This project is cut into different notebooks.\n",
    "\n",
    "This notebook correspond to the application of our model to the different graph we have built.\n",
    "If the exports haven't been made the following notebooks must be ran in the following order:\n",
    "\n",
    "1. The notebook \"Adjacency_Cast\". It corresponds to the notebook used to create an adjacency matrix from the cast.\n",
    "2. The notebook \"Adjacency_First_Role\". It corresponds to the notebook used to create an adjacency matrix from the first roles (cast).\n",
    "3. The notebook \"Adjacency_Genres\". It corresponds to the notebook used to create an adjacency matrix from the genres.\n",
    "4. The notebook \"Adjacency_Crew\". It corresponds to the notebook used to create an adjacency matrix from the crew.\n",
    "5. The notebook \"Signal_Vote_Average\" corresponds to the notebook used to extract the base signal that we are going to use on the different graphs, corresponding to the average vote of the movies.\n",
    "\n",
    "More informations on the different notebooks are available in the notebook in question.\n",
    "\n",
    "The dataset and different exports made in the project can be found in the folder \"Dataset_Exports\"."
   ]
  },
  {
   "cell_type": "markdown",
   "metadata": {},
   "source": [
    " "
   ]
  },
  {
   "cell_type": "markdown",
   "metadata": {},
   "source": [
    "## 0 - Libraries, database and usefull functions"
   ]
  },
  {
   "cell_type": "markdown",
   "metadata": {},
   "source": [
    "First of all we import several libraries that we will use in this notebook and the dataset gathering the informations on the credits and the movies of 4803 movies.\n",
    "We also define several functions that will be usefull in this notebook."
   ]
  },
  {
   "cell_type": "code",
   "execution_count": 1,
   "metadata": {},
   "outputs": [],
   "source": [
    "# Libraries:\n",
    "\n",
    "import numpy as np\n",
    "import pandas as pd\n",
    "import pygsp as pg\n",
    "import networkx as nx\n",
    "import matplotlib.pyplot as plt"
   ]
  },
  {
   "cell_type": "code",
   "execution_count": 2,
   "metadata": {},
   "outputs": [],
   "source": [
    "# Database:\n",
    "\n",
    "credits = pd.read_csv('Dataset_Exports/tmdb_5000_credits.csv')\n",
    "movies = pd.read_csv('Dataset_Exports/tmdb_5000_movies.csv')"
   ]
  },
  {
   "cell_type": "markdown",
   "metadata": {},
   "source": [
    " "
   ]
  },
  {
   "cell_type": "code",
   "execution_count": 3,
   "metadata": {},
   "outputs": [],
   "source": [
    "def Signal_Informations(Graph, Signal, Tau):\n",
    "    \n",
    "    '''\n",
    "    \n",
    "    Function to plot the GFT of the signal for the graph considered and to evaluate if the parameter Tau for the\n",
    "    heat diffusion is correct for the signal.\n",
    "    ------------------------------------------------------\n",
    "    Parameters:\n",
    "    ----------\n",
    "    Graph  : Graph that needs to be considered. The graph needs to be computed with PyGSP.\n",
    "    Signal : Base signal of the graph.\n",
    "    Tau    : Parameters for the heat diffusion.\n",
    "    ------------------------------------------------------\n",
    "    Return:\n",
    "    ------\n",
    "    Plot two curves: one for the GFT of the signal and the other for the filter in the spectral domain.\n",
    "    \n",
    "    '''    \n",
    "    \n",
    "    Graph.compute_laplacian(lap_type='combinatorial')\n",
    "    Graph.compute_fourier_basis()\n",
    "    \n",
    "    GFTSignal   = Graph.gft(Signal)\n",
    "    \n",
    "    Heat_filter = pg.filters.Heat(Graph, Tau)\n",
    "    y           = Heat_filter.evaluate(Graph.e)\n",
    "     \n",
    "    plt.figure('Informations', figsize=(10,5))\n",
    "    plt.title('Plot of the GFT and the Heat-kernel')\n",
    "    plt.xlabel('Eigenvalues')\n",
    "    plt.plot(Graph.e, abs(GFTSignal), 'b')\n",
    "    plt.plot(Graph.e, y[0]*np.max(abs(GFTSignal)), 'r')\n",
    "    plt.legend(['abs(GFT(Signal))','Heat-kernel'])"
   ]
  },
  {
   "cell_type": "code",
   "execution_count": 4,
   "metadata": {},
   "outputs": [],
   "source": [
    "def Heat_Diffusion_Exports(Graph, Signal, Node, Source_type, Tau):\n",
    "    \n",
    "    '''\n",
    "    \n",
    "    Function to compute the heat diffusion in the considered graph and its influence on the base \n",
    "    signal. This function only considers that the user can vote 0 or 10.\n",
    "    ------------------------------------------------------\n",
    "    Parameters:\n",
    "    ----------\n",
    "    Graph       : Graph that needs to be considered. The graph needs to be computed with PyGSP.\n",
    "    Signal      : Base signal of the graph.\n",
    "    Node        : Id of the node on the graph that is considered for the diffusion.\n",
    "    Source_type : 'Hot' or 'Cold'. 'Hot' to specify that the node considered will \"warm\" the graph and 'Cold' to \n",
    "                  specify that the node considered \"cool\" the graph.\n",
    "    Tau         : Parameter for the heat diffusion.\n",
    "    ------------------------------------------------------\n",
    "    Return:\n",
    "    ------\n",
    "    Diff_signal : Values of the node diffused in the graph and modified to match the base signal.\n",
    "    New_signal  : Values of the new signal that considered the heat diffusion of the node.\n",
    "\n",
    "    '''\n",
    "    \n",
    "    Graph.compute_laplacian(lap_type='combinatorial')\n",
    "    Graph.compute_fourier_basis()\n",
    "    \n",
    "    Diff_dirac       = np.zeros(len(Signal))\n",
    "    Diff_dirac[Node] = 10\n",
    "    \n",
    "    New_signal  = np.zeros(len(Signal))\n",
    "    \n",
    "    Heat_filter = pg.filters.Heat(Graph, Tau)\n",
    "    Diff_signal = Heat_filter.filter(Diff_dirac, method = 'exact')\n",
    "    Diff_signal = Diff_signal * (10 / np.max(Diff_signal))\n",
    "    \n",
    "    if Source_type == 'Hot':\n",
    "        for i in range (len(New_signal)):\n",
    "            if i == Node:\n",
    "                New_signal[i] = 10\n",
    "            else:\n",
    "                if Diff_signal[i] <= Signal[i]:\n",
    "                    New_signal[i]  = Signal[i]\n",
    "                else:\n",
    "                    New_signal[i]  = (Diff_signal[i] + Signal[i]) / 2\n",
    "    \n",
    "    elif Source_type == 'Cold':\n",
    "        Diff_signal = 10 - Diff_signal\n",
    "        for i in range (len(New_signal)):\n",
    "            if i == Node:\n",
    "                New_signal[i] = 0\n",
    "            else:\n",
    "                if Diff_signal[i] >= Signal[i]:\n",
    "                    New_signal[i]  = Signal[i]\n",
    "                else:\n",
    "                    New_signal[i]  = (Diff_signal[i] + Signal[i]) / 2\n",
    "    \n",
    "    else:\n",
    "        print(\"Error: the parameter Source_type is not accepted. Specify 'Hot' or 'Cold'.\")\n",
    "        \n",
    "    return(Diff_signal, New_signal) "
   ]
  },
  {
   "cell_type": "code",
   "execution_count": 5,
   "metadata": {},
   "outputs": [],
   "source": [
    "def Bin_10_Signal(Signal):\n",
    "\n",
    "    '''\n",
    "    \n",
    "    Function to place into 10 bins the values of the signal.\n",
    "    ------------------------------------------------------\n",
    "    Parameters:\n",
    "    ----------\n",
    "    Signal     : Signal to place into the 10 bins.\n",
    "    ------------------------------------------------------\n",
    "    Return:\n",
    "    ------\n",
    "    Bin_signal : Signal with the values modified according to the 10 bins.\n",
    "    \n",
    "    '''\n",
    "    \n",
    "    Bin_signal = np.zeros(len(Signal))\n",
    "    \n",
    "    for i in range (len(Bin_signal)):\n",
    "        if Signal[i] < 0.5:\n",
    "            Bin_signal[i] = 0\n",
    "        elif Signal[i] >= 0.5 and Signal[i] < 1.5:\n",
    "            Bin_signal[i] = 1\n",
    "        elif Signal[i] >= 1.5 and Signal[i] < 2.5:\n",
    "            Bin_signal[i] = 2\n",
    "        elif Signal[i] >= 2.5 and Signal[i] < 3.5:\n",
    "            Bin_signal[i] = 3\n",
    "        elif Signal[i] >= 3.5 and Signal[i] < 4.5:\n",
    "            Bin_signal[i] = 4\n",
    "        elif Signal[i] >= 4.5 and Signal[i] < 5.5:\n",
    "            Bin_signal[i] = 5\n",
    "        elif Signal[i] >= 5.5 and Signal[i] < 6.5:\n",
    "            Bin_signal[i] = 6\n",
    "        elif Signal[i] >= 6.5 and Signal[i] < 7.5:\n",
    "            Bin_signal[i] = 7\n",
    "        elif Signal[i] >= 7.5 and Signal[i] < 8.5:\n",
    "            Bin_signal[i] = 8\n",
    "        elif Signal[i] >= 8.5 and Signal[i] < 9.5:\n",
    "            Bin_signal[i] = 9\n",
    "        else:\n",
    "            Bin_signal[i] = 10\n",
    "            \n",
    "    return(Bin_signal)"
   ]
  },
  {
   "cell_type": "code",
   "execution_count": 6,
   "metadata": {},
   "outputs": [],
   "source": [
    "def Fill_Dataframe(Graph, Base_signal, Nodes, Source_types, Tau, Dataframe):\n",
    "    \n",
    "    '''\n",
    "    \n",
    "    Function to perform a series of diffusion and to fill the Dataframe.\n",
    "    ------------------------------------------------------\n",
    "    Parameters:\n",
    "    ----------\n",
    "    Graph       : Graph that needs to be considered. The graph needs to be computed with PyGSP.\n",
    "    Signal      : Base signal of the graph.\n",
    "    Nodes       : Array of the Id of the nodes on the graph that are considered for the diffusion, in order.\n",
    "    Source_types: Array of source types for each node in the same order: 'Hot' or 'Cold'. \n",
    "                  'Hot' to specify that the node considered will \"warm\" the graph and 'Cold' to specify that the \n",
    "                  node considered \"cool\" the graph.\n",
    "    Tau         : Parameter for the heat diffusion.\n",
    "    ------------------------------------------------------\n",
    "    Return:\n",
    "    ------\n",
    "    Dataframe   : The complete dataframe gathering each step of the function.\n",
    "    Final_signal: The new signal on the graph taking into account the diffusion of all the movies considered.\n",
    "    \n",
    "    '''\n",
    "    \n",
    "    Signal = Base_signal\n",
    "    \n",
    "    for i in range(len(Nodes)):\n",
    "        \n",
    "        Diff_signal, New_signal = Heat_Diffusion_Exports(Graph, Signal, Nodes[i], Source_types[i], Tau)\n",
    "        \n",
    "        Diff_signal_bin = Bin_10_Signal(Diff_signal)\n",
    "        New_signal_bin  = Bin_10_Signal(New_signal)\n",
    "        \n",
    "        Dataframe['diff_signal_node{}'.format(Nodes[i])] = Diff_signal_bin\n",
    "        Dataframe['vote_average{}'.format(i+1)] = New_signal_bin\n",
    "        \n",
    "        Signal = New_signal\n",
    "        \n",
    "    Final_Signal = Signal\n",
    "        \n",
    "    return(Dataframe, Final_Signal)"
   ]
  },
  {
   "cell_type": "code",
   "execution_count": 96,
   "metadata": {},
   "outputs": [],
   "source": [
    "def Find_Movie(Signal, Nodes):\n",
    "    \n",
    "    '''\n",
    "    \n",
    "    Function to find some of the movies most suited for the user according to the signal.\n",
    "    ------------------------------------------------------\n",
    "    Parameters:\n",
    "    ----------\n",
    "    Signal         : Signal corresponding to the vote for the user.\n",
    "    Nodes          : Id of the movies already seen by the user that we can't propose.\n",
    "    ------------------------------------------------------\n",
    "    Return:\n",
    "    ------\n",
    "    Proposed_movie : Movies with the best vote according to the signal. \n",
    "    \n",
    "    '''\n",
    "    \n",
    "    Place_best_votes = []\n",
    "    Move             = 0\n",
    "    Signal_sorted    = np.sort(Signal)   \n",
    "    \n",
    "    while len(Place_best_votes) < 20:\n",
    "        vote = Signal_sorted[len(Signal_sorted)-(Move+1)]\n",
    "        for i in range (len(Signal)):\n",
    "            if Signal[i] == vote:\n",
    "                Considered = False\n",
    "                for j in range (len(Nodes)):\n",
    "                    if Nodes[j] == i:\n",
    "                        Considered = True\n",
    "                if Considered == False:\n",
    "                    for k in range (len(Place_best_votes)):\n",
    "                        if Place_best_votes[k] == i:\n",
    "                            Considered = True\n",
    "                if Considered == False:\n",
    "                    Place_best_votes.append(i)\n",
    "        Move = Move + 1\n",
    "                    \n",
    "    print('You might want to take a look at the following movies:') \n",
    "    for l in range (20):\n",
    "        print('- {}'.format(movies.title[Place_best_votes[l]]))"
   ]
  },
  {
   "cell_type": "markdown",
   "metadata": {},
   "source": [
    " "
   ]
  },
  {
   "cell_type": "markdown",
   "metadata": {},
   "source": [
    "The different graph needed in this notebook are computed in the other notebooks. More informations in the section \"Organization\"."
   ]
  },
  {
   "cell_type": "markdown",
   "metadata": {},
   "source": [
    " "
   ]
  },
  {
   "cell_type": "markdown",
   "metadata": {},
   "source": [
    "## 1 - Adapted diffusion on the graphs"
   ]
  },
  {
   "cell_type": "markdown",
   "metadata": {},
   "source": [
    "To influence the other nodes and to make a graph specific to one user we want to use diffusion and more precisely the heat-kernel.\n",
    "\n",
    "As we have built graphs with the goal to make close two films similar. If we change the vote of a node we want it to diffuse its note, to influence the films similar to it meaning its close neighbours. Then, we want to create a diffusion by closest neighbours. This is an approach that is suited to use the heat-kernel as it simulate the heat diffusion, a diffusion by closest neighbours.\n",
    "\n",
    "However, to diffuse a single vote on a graph we have to consider a Dirac of this vote and then apply the heat-kernel to this Dirac (in the spectral domain). The problem is that we are considering a base signal: the average vote. This signal is the starting point, it is the notes we take into account until the user modifies them. It wouldn’t be interesting to build a signal from the start in our case. But this means that we cannot just change the vote of one node on the signal and apply the heat-kernel: we would just diffuse every node in it and it would be meaningless.\n",
    "Then, we need to take into account the diffusion by the heat-kernel of a single node in a base signal already present. For that we need to adapt the diffusion."
   ]
  },
  {
   "cell_type": "markdown",
   "metadata": {},
   "source": [
    "In this project we will only consider that the user likes a movie and vote 10 or dislikes and vote 0. Thus we have two different cases of diffusion one with a source heating-up the grah (10) and the other cooling down the graph.\n",
    "\n",
    "If we consider the 10, here is the how we adapt the diffusion:\n",
    "1. The vote of the user creates a Dirac of 10 in the position of the considered node.\n",
    "2. We filter this dirac with the heat-kernel (spectral domain). Then we have a profile of how the node diffuse in the graph.\n",
    "3. We multiply the values of this diffused Dirac so that the highest value is equal to 10.\n",
    "4. Then to take into account the base signal and the diffused Dirac we create a new signal which is the mean terms by terms of the base signal and the diffused Dirac.\n",
    "5. However, in the case of films, placing a heat source can't cool the other nodes (liking a type of films doesn’t mean we will dislike the other kinds) so the new signal only take the means if it is superior to the vote of the base signal.\n",
    "6. Finally, the votes of the user are fixed and cannot be changed unlike in a classical heat diffusion where the heat source would have become colder as it gave its heat to its neighbours.\n",
    "\n",
    "If we consider the 0, the staps are basically the same but we are cooling the graph. The main difference is that after multiplying the Dirac so that the highest value is 10 the diffused signal is : 10 - diffused signal. Like that the Dirac that we have considered to see the diffusion is now a cold source."
   ]
  },
  {
   "cell_type": "markdown",
   "metadata": {},
   "source": [
    " "
   ]
  },
  {
   "cell_type": "markdown",
   "metadata": {},
   "source": [
    "### Test - Superheroes movies"
   ]
  },
  {
   "cell_type": "markdown",
   "metadata": {},
   "source": [
    "To see if our idea of heat diffusion on the graphs is something that could work we have to simulate the behavior of a user.\n",
    "For that we have to consider, in a logical way, several movies that the user have seen and graded. However we limit ourselves in the number of movies that the user can note. Indeed if the user have to see 1000 movies in our dataset of 5000 movies before we can efficiently propose him something it is quite pointless. Thus we limit ourseleves to 10 movies seen by the user maximum.\n",
    "\n",
    "For instance let's consider that the user likes a well defined type of movies, the Superheroes kind. This is interesting as this is a kind of movie with a genre very well defined but several cast and crew possible. Thus liking a variety of superheroes movies should highlight at least this specific genre. Here are the movies we consider for the test:\n",
    "\n",
    "    - The Dark Knight Rises              (Node 3)\n",
    "    - Spider-Man 3                       (Node 5)\n",
    "    - Avengers: Age of Ultron            (Node 7)\n",
    "    - X-men: The Last Stand              (Node 33)\n",
    "    - Green Lantern                      (Node 41)\n",
    "    - Captain America: The First Avenger (Node 169)\n",
    "\n",
    "Let's see what we can obtain by considering that our user liked those 6 movies."
   ]
  },
  {
   "cell_type": "code",
   "execution_count": 8,
   "metadata": {},
   "outputs": [],
   "source": [
    "Nodes_Test_1 = [3,5,7,33,41,169]\n",
    "Source_types_Test_1 = ['Hot','Hot','Hot','Hot','Hot','Hot']\n",
    "Base_signal = np.loadtxt('Dataset_Exports/Vote_average_base_signal.txt')"
   ]
  },
  {
   "cell_type": "markdown",
   "metadata": {},
   "source": [
    "For that we are going to use our approach of diffusion step by step and in the order. Indeed we hope that the user haven't watch those 6 movies at the same time and that the user have graded them one by one.\n",
    "The order matters as we are considering a base signal on the graph before each diffusion. The new signal obtained on one graph after a diffusion is then considered as the new base signal for this same graph for the next diffusion.\n",
    "We save the diffusion step by step to see its influence."
   ]
  },
  {
   "cell_type": "markdown",
   "metadata": {},
   "source": [
    " "
   ]
  },
  {
   "cell_type": "markdown",
   "metadata": {},
   "source": [
    "The code that we are using is basically the same for each graph so we explain it here:\n",
    "1. We load the adjacency of the graph we want to work with.\n",
    "2. We create the corresponding graph by using PyGSP.\n",
    "3. We use our function Signal_Informations to plot the GFT of our base signal on the graph and the heat-kernel in the spectral domain to manage the Tau parameter of the heat-kernal. We do it only once for the first base signal.\n",
    "4. We load the dataframe from Gephi.\n",
    "5. We use our function Fill_Dataframe to create a dataframe for Gephi with each step of our process and to obtain the final signal.\n",
    "5. We export the dataframe for representation on Gephi."
   ]
  },
  {
   "cell_type": "markdown",
   "metadata": {},
   "source": [
    "### Adjacency - Cast"
   ]
  },
  {
   "cell_type": "code",
   "execution_count": 9,
   "metadata": {},
   "outputs": [],
   "source": [
    "Cast_adjacency = np.loadtxt('Dataset_Exports/Cast/Adjacency_Cast_Weighted_Normalized.txt')"
   ]
  },
  {
   "cell_type": "code",
   "execution_count": 10,
   "metadata": {},
   "outputs": [],
   "source": [
    "Cast_G = pg.graphs.Graph(Cast_adjacency)"
   ]
  },
  {
   "cell_type": "code",
   "execution_count": 11,
   "metadata": {},
   "outputs": [
    {
     "name": "stderr",
     "output_type": "stream",
     "text": [
      "2019-01-18 12:31:13,856:[WARNING](pygsp.graphs.graph.compute_fourier_basis): Computing the full eigendecomposition of a large matrix (4803 x 4803) may take some time.\n"
     ]
    },
    {
     "data": {
      "image/png": "[encoded data removed]",
      "text/plain": [
       "<Figure size 720x360 with 1 Axes>"
      ]
     },
     "metadata": {},
     "output_type": "display_data"
    }
   ],
   "source": [
    "Signal_Informations(Cast_G, Base_signal, 50)"
   ]
  },
  {
   "cell_type": "code",
   "execution_count": 12,
   "metadata": {},
   "outputs": [
    {
     "data": {
      "text/html": [
       "<div>\n",
       "<style scoped>\n",
       "    .dataframe tbody tr th:only-of-type {\n",
       "        vertical-align: middle;\n",
       "    }\n",
       "\n",
       "    .dataframe tbody tr th {\n",
       "        vertical-align: top;\n",
       "    }\n",
       "\n",
       "    .dataframe thead th {\n",
       "        text-align: right;\n",
       "    }\n",
       "</style>\n",
       "<table border=\"1\" class=\"dataframe\">\n",
       "  <thead>\n",
       "    <tr style=\"text-align: right;\">\n",
       "      <th></th>\n",
       "      <th>Unnamed: 0</th>\n",
       "      <th>Id</th>\n",
       "      <th>Label</th>\n",
       "      <th>timeset</th>\n",
       "      <th>degree</th>\n",
       "      <th>modularity_class</th>\n",
       "      <th>vote_average0</th>\n",
       "    </tr>\n",
       "  </thead>\n",
       "  <tbody>\n",
       "    <tr>\n",
       "      <th>0</th>\n",
       "      <td>0</td>\n",
       "      <td>0</td>\n",
       "      <td>0</td>\n",
       "      <td>NaN</td>\n",
       "      <td>110</td>\n",
       "      <td>38</td>\n",
       "      <td>7.0</td>\n",
       "    </tr>\n",
       "    <tr>\n",
       "      <th>1</th>\n",
       "      <td>1</td>\n",
       "      <td>1</td>\n",
       "      <td>1</td>\n",
       "      <td>NaN</td>\n",
       "      <td>141</td>\n",
       "      <td>15</td>\n",
       "      <td>7.0</td>\n",
       "    </tr>\n",
       "    <tr>\n",
       "      <th>2</th>\n",
       "      <td>2</td>\n",
       "      <td>2</td>\n",
       "      <td>2</td>\n",
       "      <td>NaN</td>\n",
       "      <td>76</td>\n",
       "      <td>15</td>\n",
       "      <td>6.0</td>\n",
       "    </tr>\n",
       "    <tr>\n",
       "      <th>3</th>\n",
       "      <td>3</td>\n",
       "      <td>3</td>\n",
       "      <td>3</td>\n",
       "      <td>NaN</td>\n",
       "      <td>191</td>\n",
       "      <td>16</td>\n",
       "      <td>8.0</td>\n",
       "    </tr>\n",
       "    <tr>\n",
       "      <th>4</th>\n",
       "      <td>4</td>\n",
       "      <td>4</td>\n",
       "      <td>4</td>\n",
       "      <td>NaN</td>\n",
       "      <td>132</td>\n",
       "      <td>15</td>\n",
       "      <td>6.0</td>\n",
       "    </tr>\n",
       "  </tbody>\n",
       "</table>\n",
       "</div>"
      ],
      "text/plain": [
       "   Unnamed: 0  Id  Label  timeset  degree  modularity_class  vote_average0\n",
       "0           0   0      0      NaN     110                38            7.0\n",
       "1           1   1      1      NaN     141                15            7.0\n",
       "2           2   2      2      NaN      76                15            6.0\n",
       "3           3   3      3      NaN     191                16            8.0\n",
       "4           4   4      4      NaN     132                15            6.0"
      ]
     },
     "execution_count": 12,
     "metadata": {},
     "output_type": "execute_result"
    }
   ],
   "source": [
    "Graph_Cast_Nodes = pd.read_csv('Dataset_Exports/Cast/Graph_Cast_Nodes.csv')\n",
    "Graph_Cast_Nodes.head()"
   ]
  },
  {
   "cell_type": "code",
   "execution_count": 13,
   "metadata": {},
   "outputs": [
    {
     "data": {
      "text/html": [
       "<div>\n",
       "<style scoped>\n",
       "    .dataframe tbody tr th:only-of-type {\n",
       "        vertical-align: middle;\n",
       "    }\n",
       "\n",
       "    .dataframe tbody tr th {\n",
       "        vertical-align: top;\n",
       "    }\n",
       "\n",
       "    .dataframe thead th {\n",
       "        text-align: right;\n",
       "    }\n",
       "</style>\n",
       "<table border=\"1\" class=\"dataframe\">\n",
       "  <thead>\n",
       "    <tr style=\"text-align: right;\">\n",
       "      <th></th>\n",
       "      <th>Unnamed: 0</th>\n",
       "      <th>Id</th>\n",
       "      <th>Label</th>\n",
       "      <th>timeset</th>\n",
       "      <th>degree</th>\n",
       "      <th>modularity_class</th>\n",
       "      <th>vote_average0</th>\n",
       "      <th>diff_signal_node3</th>\n",
       "      <th>vote_average1</th>\n",
       "      <th>diff_signal_node5</th>\n",
       "      <th>vote_average2</th>\n",
       "      <th>diff_signal_node7</th>\n",
       "      <th>vote_average3</th>\n",
       "      <th>diff_signal_node33</th>\n",
       "      <th>vote_average4</th>\n",
       "      <th>diff_signal_node41</th>\n",
       "      <th>vote_average5</th>\n",
       "      <th>diff_signal_node169</th>\n",
       "      <th>vote_average6</th>\n",
       "    </tr>\n",
       "  </thead>\n",
       "  <tbody>\n",
       "    <tr>\n",
       "      <th>0</th>\n",
       "      <td>0</td>\n",
       "      <td>0</td>\n",
       "      <td>0</td>\n",
       "      <td>NaN</td>\n",
       "      <td>110</td>\n",
       "      <td>38</td>\n",
       "      <td>7.0</td>\n",
       "      <td>4.0</td>\n",
       "      <td>7.0</td>\n",
       "      <td>2.0</td>\n",
       "      <td>7.0</td>\n",
       "      <td>8.0</td>\n",
       "      <td>8.0</td>\n",
       "      <td>6.0</td>\n",
       "      <td>8.0</td>\n",
       "      <td>1.0</td>\n",
       "      <td>8.0</td>\n",
       "      <td>1.0</td>\n",
       "      <td>8.0</td>\n",
       "    </tr>\n",
       "    <tr>\n",
       "      <th>1</th>\n",
       "      <td>1</td>\n",
       "      <td>1</td>\n",
       "      <td>1</td>\n",
       "      <td>NaN</td>\n",
       "      <td>141</td>\n",
       "      <td>15</td>\n",
       "      <td>7.0</td>\n",
       "      <td>4.0</td>\n",
       "      <td>7.0</td>\n",
       "      <td>2.0</td>\n",
       "      <td>7.0</td>\n",
       "      <td>8.0</td>\n",
       "      <td>8.0</td>\n",
       "      <td>6.0</td>\n",
       "      <td>8.0</td>\n",
       "      <td>1.0</td>\n",
       "      <td>8.0</td>\n",
       "      <td>1.0</td>\n",
       "      <td>8.0</td>\n",
       "    </tr>\n",
       "    <tr>\n",
       "      <th>2</th>\n",
       "      <td>2</td>\n",
       "      <td>2</td>\n",
       "      <td>2</td>\n",
       "      <td>NaN</td>\n",
       "      <td>76</td>\n",
       "      <td>15</td>\n",
       "      <td>6.0</td>\n",
       "      <td>4.0</td>\n",
       "      <td>6.0</td>\n",
       "      <td>2.0</td>\n",
       "      <td>6.0</td>\n",
       "      <td>8.0</td>\n",
       "      <td>7.0</td>\n",
       "      <td>6.0</td>\n",
       "      <td>7.0</td>\n",
       "      <td>1.0</td>\n",
       "      <td>7.0</td>\n",
       "      <td>1.0</td>\n",
       "      <td>7.0</td>\n",
       "    </tr>\n",
       "    <tr>\n",
       "      <th>3</th>\n",
       "      <td>3</td>\n",
       "      <td>3</td>\n",
       "      <td>3</td>\n",
       "      <td>NaN</td>\n",
       "      <td>191</td>\n",
       "      <td>16</td>\n",
       "      <td>8.0</td>\n",
       "      <td>4.0</td>\n",
       "      <td>10.0</td>\n",
       "      <td>2.0</td>\n",
       "      <td>10.0</td>\n",
       "      <td>8.0</td>\n",
       "      <td>10.0</td>\n",
       "      <td>6.0</td>\n",
       "      <td>10.0</td>\n",
       "      <td>1.0</td>\n",
       "      <td>10.0</td>\n",
       "      <td>1.0</td>\n",
       "      <td>10.0</td>\n",
       "    </tr>\n",
       "    <tr>\n",
       "      <th>4</th>\n",
       "      <td>4</td>\n",
       "      <td>4</td>\n",
       "      <td>4</td>\n",
       "      <td>NaN</td>\n",
       "      <td>132</td>\n",
       "      <td>15</td>\n",
       "      <td>6.0</td>\n",
       "      <td>4.0</td>\n",
       "      <td>6.0</td>\n",
       "      <td>2.0</td>\n",
       "      <td>6.0</td>\n",
       "      <td>8.0</td>\n",
       "      <td>7.0</td>\n",
       "      <td>6.0</td>\n",
       "      <td>7.0</td>\n",
       "      <td>1.0</td>\n",
       "      <td>7.0</td>\n",
       "      <td>1.0</td>\n",
       "      <td>7.0</td>\n",
       "    </tr>\n",
       "  </tbody>\n",
       "</table>\n",
       "</div>"
      ],
      "text/plain": [
       "   Unnamed: 0  Id  Label  timeset  degree  modularity_class  vote_average0  \\\n",
       "0           0   0      0      NaN     110                38            7.0   \n",
       "1           1   1      1      NaN     141                15            7.0   \n",
       "2           2   2      2      NaN      76                15            6.0   \n",
       "3           3   3      3      NaN     191                16            8.0   \n",
       "4           4   4      4      NaN     132                15            6.0   \n",
       "\n",
       "   diff_signal_node3  vote_average1  diff_signal_node5  vote_average2  \\\n",
       "0                4.0            7.0                2.0            7.0   \n",
       "1                4.0            7.0                2.0            7.0   \n",
       "2                4.0            6.0                2.0            6.0   \n",
       "3                4.0           10.0                2.0           10.0   \n",
       "4                4.0            6.0                2.0            6.0   \n",
       "\n",
       "   diff_signal_node7  vote_average3  diff_signal_node33  vote_average4  \\\n",
       "0                8.0            8.0                 6.0            8.0   \n",
       "1                8.0            8.0                 6.0            8.0   \n",
       "2                8.0            7.0                 6.0            7.0   \n",
       "3                8.0           10.0                 6.0           10.0   \n",
       "4                8.0            7.0                 6.0            7.0   \n",
       "\n",
       "   diff_signal_node41  vote_average5  diff_signal_node169  vote_average6  \n",
       "0                 1.0            8.0                  1.0            8.0  \n",
       "1                 1.0            8.0                  1.0            8.0  \n",
       "2                 1.0            7.0                  1.0            7.0  \n",
       "3                 1.0           10.0                  1.0           10.0  \n",
       "4                 1.0            7.0                  1.0            7.0  "
      ]
     },
     "execution_count": 13,
     "metadata": {},
     "output_type": "execute_result"
    }
   ],
   "source": [
    "Graph_Cast_Nodes_Test_1, Final_signal_Cast = Fill_Dataframe(Cast_G, Base_signal, Nodes_Test_1, Source_types_Test_1, 50, Graph_Cast_Nodes)\n",
    "Graph_Cast_Nodes_Test_1.head()"
   ]
  },
  {
   "cell_type": "code",
   "execution_count": 14,
   "metadata": {},
   "outputs": [],
   "source": [
    "Graph_Cast_Nodes_Test_1.to_csv('Dataset_Exports/Cast/Graph_Cast_Nodes_Test_1.csv')"
   ]
  },
  {
   "cell_type": "markdown",
   "metadata": {},
   "source": [
    " "
   ]
  },
  {
   "cell_type": "markdown",
   "metadata": {},
   "source": [
    "### Adjacency - First role"
   ]
  },
  {
   "cell_type": "code",
   "execution_count": 15,
   "metadata": {},
   "outputs": [],
   "source": [
    "First_Role_adjacency = np.loadtxt('Dataset_Exports/First_Role/Adjacency_First_Role_Weighted_Normalized.txt')"
   ]
  },
  {
   "cell_type": "code",
   "execution_count": 16,
   "metadata": {},
   "outputs": [],
   "source": [
    "First_Role_G = pg.graphs.Graph(First_Role_adjacency)"
   ]
  },
  {
   "cell_type": "code",
   "execution_count": 17,
   "metadata": {},
   "outputs": [
    {
     "name": "stderr",
     "output_type": "stream",
     "text": [
      "2019-01-18 12:31:42,690:[WARNING](pygsp.graphs.graph.compute_fourier_basis): Computing the full eigendecomposition of a large matrix (4803 x 4803) may take some time.\n"
     ]
    },
    {
     "data": {
      "image/png": "[encoded data removed]",
      "text/plain": [
       "<Figure size 720x360 with 1 Axes>"
      ]
     },
     "metadata": {},
     "output_type": "display_data"
    }
   ],
   "source": [
    "Signal_Informations(First_Role_G, Base_signal, 50)"
   ]
  },
  {
   "cell_type": "code",
   "execution_count": 18,
   "metadata": {},
   "outputs": [
    {
     "data": {
      "text/html": [
       "<div>\n",
       "<style scoped>\n",
       "    .dataframe tbody tr th:only-of-type {\n",
       "        vertical-align: middle;\n",
       "    }\n",
       "\n",
       "    .dataframe tbody tr th {\n",
       "        vertical-align: top;\n",
       "    }\n",
       "\n",
       "    .dataframe thead th {\n",
       "        text-align: right;\n",
       "    }\n",
       "</style>\n",
       "<table border=\"1\" class=\"dataframe\">\n",
       "  <thead>\n",
       "    <tr style=\"text-align: right;\">\n",
       "      <th></th>\n",
       "      <th>Unnamed: 0</th>\n",
       "      <th>Id</th>\n",
       "      <th>Label</th>\n",
       "      <th>timeset</th>\n",
       "      <th>degree</th>\n",
       "      <th>modularity_class</th>\n",
       "      <th>vote_average0</th>\n",
       "    </tr>\n",
       "  </thead>\n",
       "  <tbody>\n",
       "    <tr>\n",
       "      <th>0</th>\n",
       "      <td>0</td>\n",
       "      <td>0</td>\n",
       "      <td>0</td>\n",
       "      <td>NaN</td>\n",
       "      <td>9</td>\n",
       "      <td>5</td>\n",
       "      <td>7.0</td>\n",
       "    </tr>\n",
       "    <tr>\n",
       "      <th>1</th>\n",
       "      <td>1</td>\n",
       "      <td>1</td>\n",
       "      <td>1</td>\n",
       "      <td>NaN</td>\n",
       "      <td>39</td>\n",
       "      <td>137</td>\n",
       "      <td>7.0</td>\n",
       "    </tr>\n",
       "    <tr>\n",
       "      <th>2</th>\n",
       "      <td>2</td>\n",
       "      <td>2</td>\n",
       "      <td>2</td>\n",
       "      <td>NaN</td>\n",
       "      <td>18</td>\n",
       "      <td>38</td>\n",
       "      <td>6.0</td>\n",
       "    </tr>\n",
       "    <tr>\n",
       "      <th>3</th>\n",
       "      <td>3</td>\n",
       "      <td>3</td>\n",
       "      <td>3</td>\n",
       "      <td>NaN</td>\n",
       "      <td>25</td>\n",
       "      <td>99</td>\n",
       "      <td>8.0</td>\n",
       "    </tr>\n",
       "    <tr>\n",
       "      <th>4</th>\n",
       "      <td>4</td>\n",
       "      <td>4</td>\n",
       "      <td>4</td>\n",
       "      <td>NaN</td>\n",
       "      <td>5</td>\n",
       "      <td>129</td>\n",
       "      <td>6.0</td>\n",
       "    </tr>\n",
       "  </tbody>\n",
       "</table>\n",
       "</div>"
      ],
      "text/plain": [
       "   Unnamed: 0  Id  Label  timeset  degree  modularity_class  vote_average0\n",
       "0           0   0      0      NaN       9                 5            7.0\n",
       "1           1   1      1      NaN      39               137            7.0\n",
       "2           2   2      2      NaN      18                38            6.0\n",
       "3           3   3      3      NaN      25                99            8.0\n",
       "4           4   4      4      NaN       5               129            6.0"
      ]
     },
     "execution_count": 18,
     "metadata": {},
     "output_type": "execute_result"
    }
   ],
   "source": [
    "Graph_First_Role_Nodes = pd.read_csv('Dataset_Exports/First_Role/Graph_First_Role_Nodes.csv')\n",
    "Graph_First_Role_Nodes.head()"
   ]
  },
  {
   "cell_type": "code",
   "execution_count": 19,
   "metadata": {},
   "outputs": [
    {
     "data": {
      "text/html": [
       "<div>\n",
       "<style scoped>\n",
       "    .dataframe tbody tr th:only-of-type {\n",
       "        vertical-align: middle;\n",
       "    }\n",
       "\n",
       "    .dataframe tbody tr th {\n",
       "        vertical-align: top;\n",
       "    }\n",
       "\n",
       "    .dataframe thead th {\n",
       "        text-align: right;\n",
       "    }\n",
       "</style>\n",
       "<table border=\"1\" class=\"dataframe\">\n",
       "  <thead>\n",
       "    <tr style=\"text-align: right;\">\n",
       "      <th></th>\n",
       "      <th>Unnamed: 0</th>\n",
       "      <th>Id</th>\n",
       "      <th>Label</th>\n",
       "      <th>timeset</th>\n",
       "      <th>degree</th>\n",
       "      <th>modularity_class</th>\n",
       "      <th>vote_average0</th>\n",
       "      <th>diff_signal_node3</th>\n",
       "      <th>vote_average1</th>\n",
       "      <th>diff_signal_node5</th>\n",
       "      <th>vote_average2</th>\n",
       "      <th>diff_signal_node7</th>\n",
       "      <th>vote_average3</th>\n",
       "      <th>diff_signal_node33</th>\n",
       "      <th>vote_average4</th>\n",
       "      <th>diff_signal_node41</th>\n",
       "      <th>vote_average5</th>\n",
       "      <th>diff_signal_node169</th>\n",
       "      <th>vote_average6</th>\n",
       "    </tr>\n",
       "  </thead>\n",
       "  <tbody>\n",
       "    <tr>\n",
       "      <th>0</th>\n",
       "      <td>0</td>\n",
       "      <td>0</td>\n",
       "      <td>0</td>\n",
       "      <td>NaN</td>\n",
       "      <td>9</td>\n",
       "      <td>5</td>\n",
       "      <td>7.0</td>\n",
       "      <td>3.0</td>\n",
       "      <td>7.0</td>\n",
       "      <td>0.0</td>\n",
       "      <td>7.0</td>\n",
       "      <td>0.0</td>\n",
       "      <td>7.0</td>\n",
       "      <td>0.0</td>\n",
       "      <td>7.0</td>\n",
       "      <td>1.0</td>\n",
       "      <td>7.0</td>\n",
       "      <td>0.0</td>\n",
       "      <td>7.0</td>\n",
       "    </tr>\n",
       "    <tr>\n",
       "      <th>1</th>\n",
       "      <td>1</td>\n",
       "      <td>1</td>\n",
       "      <td>1</td>\n",
       "      <td>NaN</td>\n",
       "      <td>39</td>\n",
       "      <td>137</td>\n",
       "      <td>7.0</td>\n",
       "      <td>2.0</td>\n",
       "      <td>7.0</td>\n",
       "      <td>1.0</td>\n",
       "      <td>7.0</td>\n",
       "      <td>0.0</td>\n",
       "      <td>7.0</td>\n",
       "      <td>0.0</td>\n",
       "      <td>7.0</td>\n",
       "      <td>0.0</td>\n",
       "      <td>7.0</td>\n",
       "      <td>0.0</td>\n",
       "      <td>7.0</td>\n",
       "    </tr>\n",
       "    <tr>\n",
       "      <th>2</th>\n",
       "      <td>2</td>\n",
       "      <td>2</td>\n",
       "      <td>2</td>\n",
       "      <td>NaN</td>\n",
       "      <td>18</td>\n",
       "      <td>38</td>\n",
       "      <td>6.0</td>\n",
       "      <td>1.0</td>\n",
       "      <td>6.0</td>\n",
       "      <td>0.0</td>\n",
       "      <td>6.0</td>\n",
       "      <td>1.0</td>\n",
       "      <td>6.0</td>\n",
       "      <td>0.0</td>\n",
       "      <td>6.0</td>\n",
       "      <td>0.0</td>\n",
       "      <td>6.0</td>\n",
       "      <td>0.0</td>\n",
       "      <td>6.0</td>\n",
       "    </tr>\n",
       "    <tr>\n",
       "      <th>3</th>\n",
       "      <td>3</td>\n",
       "      <td>3</td>\n",
       "      <td>3</td>\n",
       "      <td>NaN</td>\n",
       "      <td>25</td>\n",
       "      <td>99</td>\n",
       "      <td>8.0</td>\n",
       "      <td>9.0</td>\n",
       "      <td>10.0</td>\n",
       "      <td>0.0</td>\n",
       "      <td>10.0</td>\n",
       "      <td>1.0</td>\n",
       "      <td>10.0</td>\n",
       "      <td>1.0</td>\n",
       "      <td>10.0</td>\n",
       "      <td>0.0</td>\n",
       "      <td>10.0</td>\n",
       "      <td>0.0</td>\n",
       "      <td>10.0</td>\n",
       "    </tr>\n",
       "    <tr>\n",
       "      <th>4</th>\n",
       "      <td>4</td>\n",
       "      <td>4</td>\n",
       "      <td>4</td>\n",
       "      <td>NaN</td>\n",
       "      <td>5</td>\n",
       "      <td>129</td>\n",
       "      <td>6.0</td>\n",
       "      <td>2.0</td>\n",
       "      <td>6.0</td>\n",
       "      <td>0.0</td>\n",
       "      <td>6.0</td>\n",
       "      <td>0.0</td>\n",
       "      <td>6.0</td>\n",
       "      <td>2.0</td>\n",
       "      <td>6.0</td>\n",
       "      <td>0.0</td>\n",
       "      <td>6.0</td>\n",
       "      <td>0.0</td>\n",
       "      <td>6.0</td>\n",
       "    </tr>\n",
       "  </tbody>\n",
       "</table>\n",
       "</div>"
      ],
      "text/plain": [
       "   Unnamed: 0  Id  Label  timeset  degree  modularity_class  vote_average0  \\\n",
       "0           0   0      0      NaN       9                 5            7.0   \n",
       "1           1   1      1      NaN      39               137            7.0   \n",
       "2           2   2      2      NaN      18                38            6.0   \n",
       "3           3   3      3      NaN      25                99            8.0   \n",
       "4           4   4      4      NaN       5               129            6.0   \n",
       "\n",
       "   diff_signal_node3  vote_average1  diff_signal_node5  vote_average2  \\\n",
       "0                3.0            7.0                0.0            7.0   \n",
       "1                2.0            7.0                1.0            7.0   \n",
       "2                1.0            6.0                0.0            6.0   \n",
       "3                9.0           10.0                0.0           10.0   \n",
       "4                2.0            6.0                0.0            6.0   \n",
       "\n",
       "   diff_signal_node7  vote_average3  diff_signal_node33  vote_average4  \\\n",
       "0                0.0            7.0                 0.0            7.0   \n",
       "1                0.0            7.0                 0.0            7.0   \n",
       "2                1.0            6.0                 0.0            6.0   \n",
       "3                1.0           10.0                 1.0           10.0   \n",
       "4                0.0            6.0                 2.0            6.0   \n",
       "\n",
       "   diff_signal_node41  vote_average5  diff_signal_node169  vote_average6  \n",
       "0                 1.0            7.0                  0.0            7.0  \n",
       "1                 0.0            7.0                  0.0            7.0  \n",
       "2                 0.0            6.0                  0.0            6.0  \n",
       "3                 0.0           10.0                  0.0           10.0  \n",
       "4                 0.0            6.0                  0.0            6.0  "
      ]
     },
     "execution_count": 19,
     "metadata": {},
     "output_type": "execute_result"
    }
   ],
   "source": [
    "Graph_First_Role_Nodes_Test_1, Final_signal_First_Role = Fill_Dataframe(First_Role_G, Base_signal, Nodes_Test_1, Source_types_Test_1, 50, Graph_First_Role_Nodes)\n",
    "Graph_First_Role_Nodes_Test_1.head()"
   ]
  },
  {
   "cell_type": "code",
   "execution_count": 20,
   "metadata": {},
   "outputs": [],
   "source": [
    "Graph_First_Role_Nodes_Test_1.to_csv('Dataset_Exports/First_Role/Graph_First_Role_Nodes_Test_1.csv')"
   ]
  },
  {
   "cell_type": "markdown",
   "metadata": {},
   "source": [
    " "
   ]
  },
  {
   "cell_type": "markdown",
   "metadata": {},
   "source": [
    "### Adjacency - Genres"
   ]
  },
  {
   "cell_type": "code",
   "execution_count": 21,
   "metadata": {},
   "outputs": [],
   "source": [
    "Genres_adjacency = np.loadtxt('Dataset_Exports/Genres/Adjacency_Genres_Weighted_Normalized.txt')"
   ]
  },
  {
   "cell_type": "code",
   "execution_count": 22,
   "metadata": {},
   "outputs": [],
   "source": [
    "Genres_G = pg.graphs.Graph(Genres_adjacency)"
   ]
  },
  {
   "cell_type": "code",
   "execution_count": 23,
   "metadata": {},
   "outputs": [
    {
     "name": "stderr",
     "output_type": "stream",
     "text": [
      "2019-01-18 12:32:16,965:[WARNING](pygsp.graphs.graph.compute_fourier_basis): Computing the full eigendecomposition of a large matrix (4803 x 4803) may take some time.\n"
     ]
    },
    {
     "data": {
      "image/png": "[encoded data removed]",
      "text/plain": [
       "<Figure size 720x360 with 1 Axes>"
      ]
     },
     "metadata": {},
     "output_type": "display_data"
    }
   ],
   "source": [
    "Signal_Informations(Genres_G, Base_signal, 50)"
   ]
  },
  {
   "cell_type": "code",
   "execution_count": 24,
   "metadata": {},
   "outputs": [
    {
     "data": {
      "text/html": [
       "<div>\n",
       "<style scoped>\n",
       "    .dataframe tbody tr th:only-of-type {\n",
       "        vertical-align: middle;\n",
       "    }\n",
       "\n",
       "    .dataframe tbody tr th {\n",
       "        vertical-align: top;\n",
       "    }\n",
       "\n",
       "    .dataframe thead th {\n",
       "        text-align: right;\n",
       "    }\n",
       "</style>\n",
       "<table border=\"1\" class=\"dataframe\">\n",
       "  <thead>\n",
       "    <tr style=\"text-align: right;\">\n",
       "      <th></th>\n",
       "      <th>Unnamed: 0</th>\n",
       "      <th>Id</th>\n",
       "      <th>Label</th>\n",
       "      <th>timeset</th>\n",
       "      <th>degree</th>\n",
       "      <th>modularity_class</th>\n",
       "      <th>vote_average0</th>\n",
       "    </tr>\n",
       "  </thead>\n",
       "  <tbody>\n",
       "    <tr>\n",
       "      <th>0</th>\n",
       "      <td>0</td>\n",
       "      <td>0</td>\n",
       "      <td>0</td>\n",
       "      <td>NaN</td>\n",
       "      <td>309</td>\n",
       "      <td>6</td>\n",
       "      <td>7.0</td>\n",
       "    </tr>\n",
       "    <tr>\n",
       "      <th>1</th>\n",
       "      <td>1</td>\n",
       "      <td>1</td>\n",
       "      <td>1</td>\n",
       "      <td>NaN</td>\n",
       "      <td>149</td>\n",
       "      <td>7</td>\n",
       "      <td>7.0</td>\n",
       "    </tr>\n",
       "    <tr>\n",
       "      <th>2</th>\n",
       "      <td>2</td>\n",
       "      <td>2</td>\n",
       "      <td>2</td>\n",
       "      <td>NaN</td>\n",
       "      <td>295</td>\n",
       "      <td>6</td>\n",
       "      <td>6.0</td>\n",
       "    </tr>\n",
       "    <tr>\n",
       "      <th>3</th>\n",
       "      <td>3</td>\n",
       "      <td>3</td>\n",
       "      <td>3</td>\n",
       "      <td>NaN</td>\n",
       "      <td>320</td>\n",
       "      <td>6</td>\n",
       "      <td>8.0</td>\n",
       "    </tr>\n",
       "    <tr>\n",
       "      <th>4</th>\n",
       "      <td>4</td>\n",
       "      <td>4</td>\n",
       "      <td>4</td>\n",
       "      <td>NaN</td>\n",
       "      <td>329</td>\n",
       "      <td>6</td>\n",
       "      <td>6.0</td>\n",
       "    </tr>\n",
       "  </tbody>\n",
       "</table>\n",
       "</div>"
      ],
      "text/plain": [
       "   Unnamed: 0  Id  Label  timeset  degree  modularity_class  vote_average0\n",
       "0           0   0      0      NaN     309                 6            7.0\n",
       "1           1   1      1      NaN     149                 7            7.0\n",
       "2           2   2      2      NaN     295                 6            6.0\n",
       "3           3   3      3      NaN     320                 6            8.0\n",
       "4           4   4      4      NaN     329                 6            6.0"
      ]
     },
     "execution_count": 24,
     "metadata": {},
     "output_type": "execute_result"
    }
   ],
   "source": [
    "Graph_Genres_Nodes = pd.read_csv('Dataset_Exports/Genres/Graph_Genres_Nodes.csv')\n",
    "Graph_Genres_Nodes.head()"
   ]
  },
  {
   "cell_type": "code",
   "execution_count": 25,
   "metadata": {},
   "outputs": [
    {
     "data": {
      "text/html": [
       "<div>\n",
       "<style scoped>\n",
       "    .dataframe tbody tr th:only-of-type {\n",
       "        vertical-align: middle;\n",
       "    }\n",
       "\n",
       "    .dataframe tbody tr th {\n",
       "        vertical-align: top;\n",
       "    }\n",
       "\n",
       "    .dataframe thead th {\n",
       "        text-align: right;\n",
       "    }\n",
       "</style>\n",
       "<table border=\"1\" class=\"dataframe\">\n",
       "  <thead>\n",
       "    <tr style=\"text-align: right;\">\n",
       "      <th></th>\n",
       "      <th>Unnamed: 0</th>\n",
       "      <th>Id</th>\n",
       "      <th>Label</th>\n",
       "      <th>timeset</th>\n",
       "      <th>degree</th>\n",
       "      <th>modularity_class</th>\n",
       "      <th>vote_average0</th>\n",
       "      <th>diff_signal_node3</th>\n",
       "      <th>vote_average1</th>\n",
       "      <th>diff_signal_node5</th>\n",
       "      <th>vote_average2</th>\n",
       "      <th>diff_signal_node7</th>\n",
       "      <th>vote_average3</th>\n",
       "      <th>diff_signal_node33</th>\n",
       "      <th>vote_average4</th>\n",
       "      <th>diff_signal_node41</th>\n",
       "      <th>vote_average5</th>\n",
       "      <th>diff_signal_node169</th>\n",
       "      <th>vote_average6</th>\n",
       "    </tr>\n",
       "  </thead>\n",
       "  <tbody>\n",
       "    <tr>\n",
       "      <th>0</th>\n",
       "      <td>0</td>\n",
       "      <td>0</td>\n",
       "      <td>0</td>\n",
       "      <td>NaN</td>\n",
       "      <td>309</td>\n",
       "      <td>6</td>\n",
       "      <td>7.0</td>\n",
       "      <td>10.0</td>\n",
       "      <td>9.0</td>\n",
       "      <td>0.0</td>\n",
       "      <td>9.0</td>\n",
       "      <td>10.0</td>\n",
       "      <td>9.0</td>\n",
       "      <td>5.0</td>\n",
       "      <td>9.0</td>\n",
       "      <td>5.0</td>\n",
       "      <td>9.0</td>\n",
       "      <td>10.0</td>\n",
       "      <td>9.0</td>\n",
       "    </tr>\n",
       "    <tr>\n",
       "      <th>1</th>\n",
       "      <td>1</td>\n",
       "      <td>1</td>\n",
       "      <td>1</td>\n",
       "      <td>NaN</td>\n",
       "      <td>149</td>\n",
       "      <td>7</td>\n",
       "      <td>7.0</td>\n",
       "      <td>5.0</td>\n",
       "      <td>7.0</td>\n",
       "      <td>0.0</td>\n",
       "      <td>7.0</td>\n",
       "      <td>6.0</td>\n",
       "      <td>7.0</td>\n",
       "      <td>10.0</td>\n",
       "      <td>8.0</td>\n",
       "      <td>10.0</td>\n",
       "      <td>9.0</td>\n",
       "      <td>6.0</td>\n",
       "      <td>9.0</td>\n",
       "    </tr>\n",
       "    <tr>\n",
       "      <th>2</th>\n",
       "      <td>2</td>\n",
       "      <td>2</td>\n",
       "      <td>2</td>\n",
       "      <td>NaN</td>\n",
       "      <td>295</td>\n",
       "      <td>6</td>\n",
       "      <td>6.0</td>\n",
       "      <td>10.0</td>\n",
       "      <td>8.0</td>\n",
       "      <td>0.0</td>\n",
       "      <td>8.0</td>\n",
       "      <td>10.0</td>\n",
       "      <td>9.0</td>\n",
       "      <td>5.0</td>\n",
       "      <td>9.0</td>\n",
       "      <td>5.0</td>\n",
       "      <td>9.0</td>\n",
       "      <td>10.0</td>\n",
       "      <td>9.0</td>\n",
       "    </tr>\n",
       "    <tr>\n",
       "      <th>3</th>\n",
       "      <td>3</td>\n",
       "      <td>3</td>\n",
       "      <td>3</td>\n",
       "      <td>NaN</td>\n",
       "      <td>320</td>\n",
       "      <td>6</td>\n",
       "      <td>8.0</td>\n",
       "      <td>10.0</td>\n",
       "      <td>10.0</td>\n",
       "      <td>0.0</td>\n",
       "      <td>10.0</td>\n",
       "      <td>10.0</td>\n",
       "      <td>10.0</td>\n",
       "      <td>4.0</td>\n",
       "      <td>10.0</td>\n",
       "      <td>4.0</td>\n",
       "      <td>10.0</td>\n",
       "      <td>10.0</td>\n",
       "      <td>10.0</td>\n",
       "    </tr>\n",
       "    <tr>\n",
       "      <th>4</th>\n",
       "      <td>4</td>\n",
       "      <td>4</td>\n",
       "      <td>4</td>\n",
       "      <td>NaN</td>\n",
       "      <td>329</td>\n",
       "      <td>6</td>\n",
       "      <td>6.0</td>\n",
       "      <td>10.0</td>\n",
       "      <td>8.0</td>\n",
       "      <td>0.0</td>\n",
       "      <td>8.0</td>\n",
       "      <td>10.0</td>\n",
       "      <td>9.0</td>\n",
       "      <td>5.0</td>\n",
       "      <td>9.0</td>\n",
       "      <td>5.0</td>\n",
       "      <td>9.0</td>\n",
       "      <td>10.0</td>\n",
       "      <td>9.0</td>\n",
       "    </tr>\n",
       "  </tbody>\n",
       "</table>\n",
       "</div>"
      ],
      "text/plain": [
       "   Unnamed: 0  Id  Label  timeset  degree  modularity_class  vote_average0  \\\n",
       "0           0   0      0      NaN     309                 6            7.0   \n",
       "1           1   1      1      NaN     149                 7            7.0   \n",
       "2           2   2      2      NaN     295                 6            6.0   \n",
       "3           3   3      3      NaN     320                 6            8.0   \n",
       "4           4   4      4      NaN     329                 6            6.0   \n",
       "\n",
       "   diff_signal_node3  vote_average1  diff_signal_node5  vote_average2  \\\n",
       "0               10.0            9.0                0.0            9.0   \n",
       "1                5.0            7.0                0.0            7.0   \n",
       "2               10.0            8.0                0.0            8.0   \n",
       "3               10.0           10.0                0.0           10.0   \n",
       "4               10.0            8.0                0.0            8.0   \n",
       "\n",
       "   diff_signal_node7  vote_average3  diff_signal_node33  vote_average4  \\\n",
       "0               10.0            9.0                 5.0            9.0   \n",
       "1                6.0            7.0                10.0            8.0   \n",
       "2               10.0            9.0                 5.0            9.0   \n",
       "3               10.0           10.0                 4.0           10.0   \n",
       "4               10.0            9.0                 5.0            9.0   \n",
       "\n",
       "   diff_signal_node41  vote_average5  diff_signal_node169  vote_average6  \n",
       "0                 5.0            9.0                 10.0            9.0  \n",
       "1                10.0            9.0                  6.0            9.0  \n",
       "2                 5.0            9.0                 10.0            9.0  \n",
       "3                 4.0           10.0                 10.0           10.0  \n",
       "4                 5.0            9.0                 10.0            9.0  "
      ]
     },
     "execution_count": 25,
     "metadata": {},
     "output_type": "execute_result"
    }
   ],
   "source": [
    "Graph_Genres_Nodes_Test_1, Final_signal_Genres = Fill_Dataframe(Genres_G, Base_signal, Nodes_Test_1, Source_types_Test_1, 50, Graph_Genres_Nodes)\n",
    "Graph_Genres_Nodes_Test_1.head()"
   ]
  },
  {
   "cell_type": "code",
   "execution_count": 26,
   "metadata": {},
   "outputs": [],
   "source": [
    "Graph_Genres_Nodes_Test_1.to_csv('Dataset_Exports/Genres/Graph_Genres_Nodes_Test_1.csv')"
   ]
  },
  {
   "cell_type": "markdown",
   "metadata": {},
   "source": [
    " "
   ]
  },
  {
   "cell_type": "markdown",
   "metadata": {},
   "source": [
    "### Adjacency - Crew"
   ]
  },
  {
   "cell_type": "code",
   "execution_count": 27,
   "metadata": {},
   "outputs": [],
   "source": [
    "Crew_adjacency = np.loadtxt('Dataset_Exports/Crew/Adjacency_Crew_Weighted_Normalized.txt')"
   ]
  },
  {
   "cell_type": "code",
   "execution_count": 28,
   "metadata": {},
   "outputs": [],
   "source": [
    "Crew_G = pg.graphs.Graph(Crew_adjacency)"
   ]
  },
  {
   "cell_type": "code",
   "execution_count": 29,
   "metadata": {},
   "outputs": [
    {
     "name": "stderr",
     "output_type": "stream",
     "text": [
      "2019-01-18 12:32:51,480:[WARNING](pygsp.graphs.graph.compute_fourier_basis): Computing the full eigendecomposition of a large matrix (4803 x 4803) may take some time.\n"
     ]
    },
    {
     "data": {
      "image/png": "[encoded data removed]",
      "text/plain": [
       "<Figure size 720x360 with 1 Axes>"
      ]
     },
     "metadata": {},
     "output_type": "display_data"
    }
   ],
   "source": [
    "Signal_Informations(Crew_G, Base_signal, 50)"
   ]
  },
  {
   "cell_type": "code",
   "execution_count": 31,
   "metadata": {},
   "outputs": [
    {
     "data": {
      "text/html": [
       "<div>\n",
       "<style scoped>\n",
       "    .dataframe tbody tr th:only-of-type {\n",
       "        vertical-align: middle;\n",
       "    }\n",
       "\n",
       "    .dataframe tbody tr th {\n",
       "        vertical-align: top;\n",
       "    }\n",
       "\n",
       "    .dataframe thead th {\n",
       "        text-align: right;\n",
       "    }\n",
       "</style>\n",
       "<table border=\"1\" class=\"dataframe\">\n",
       "  <thead>\n",
       "    <tr style=\"text-align: right;\">\n",
       "      <th></th>\n",
       "      <th>Unnamed: 0</th>\n",
       "      <th>Id</th>\n",
       "      <th>Label</th>\n",
       "      <th>timeset</th>\n",
       "      <th>degree</th>\n",
       "      <th>modularity_class</th>\n",
       "      <th>vote_average0</th>\n",
       "    </tr>\n",
       "  </thead>\n",
       "  <tbody>\n",
       "    <tr>\n",
       "      <th>0</th>\n",
       "      <td>0</td>\n",
       "      <td>0</td>\n",
       "      <td>0</td>\n",
       "      <td>NaN</td>\n",
       "      <td>51</td>\n",
       "      <td>60</td>\n",
       "      <td>7.0</td>\n",
       "    </tr>\n",
       "    <tr>\n",
       "      <th>1</th>\n",
       "      <td>1</td>\n",
       "      <td>1</td>\n",
       "      <td>1</td>\n",
       "      <td>NaN</td>\n",
       "      <td>70</td>\n",
       "      <td>16</td>\n",
       "      <td>7.0</td>\n",
       "    </tr>\n",
       "    <tr>\n",
       "      <th>2</th>\n",
       "      <td>2</td>\n",
       "      <td>2</td>\n",
       "      <td>2</td>\n",
       "      <td>NaN</td>\n",
       "      <td>32</td>\n",
       "      <td>92</td>\n",
       "      <td>6.0</td>\n",
       "    </tr>\n",
       "    <tr>\n",
       "      <th>3</th>\n",
       "      <td>3</td>\n",
       "      <td>3</td>\n",
       "      <td>3</td>\n",
       "      <td>NaN</td>\n",
       "      <td>91</td>\n",
       "      <td>16</td>\n",
       "      <td>8.0</td>\n",
       "    </tr>\n",
       "    <tr>\n",
       "      <th>4</th>\n",
       "      <td>4</td>\n",
       "      <td>4</td>\n",
       "      <td>4</td>\n",
       "      <td>NaN</td>\n",
       "      <td>8</td>\n",
       "      <td>92</td>\n",
       "      <td>6.0</td>\n",
       "    </tr>\n",
       "  </tbody>\n",
       "</table>\n",
       "</div>"
      ],
      "text/plain": [
       "   Unnamed: 0  Id  Label  timeset  degree  modularity_class  vote_average0\n",
       "0           0   0      0      NaN      51                60            7.0\n",
       "1           1   1      1      NaN      70                16            7.0\n",
       "2           2   2      2      NaN      32                92            6.0\n",
       "3           3   3      3      NaN      91                16            8.0\n",
       "4           4   4      4      NaN       8                92            6.0"
      ]
     },
     "execution_count": 31,
     "metadata": {},
     "output_type": "execute_result"
    }
   ],
   "source": [
    "Graph_Crew_Nodes = pd.read_csv('Dataset_Exports/Crew/Graph_Crew_Nodes.csv')\n",
    "Graph_Crew_Nodes.head()"
   ]
  },
  {
   "cell_type": "code",
   "execution_count": 32,
   "metadata": {},
   "outputs": [
    {
     "data": {
      "text/html": [
       "<div>\n",
       "<style scoped>\n",
       "    .dataframe tbody tr th:only-of-type {\n",
       "        vertical-align: middle;\n",
       "    }\n",
       "\n",
       "    .dataframe tbody tr th {\n",
       "        vertical-align: top;\n",
       "    }\n",
       "\n",
       "    .dataframe thead th {\n",
       "        text-align: right;\n",
       "    }\n",
       "</style>\n",
       "<table border=\"1\" class=\"dataframe\">\n",
       "  <thead>\n",
       "    <tr style=\"text-align: right;\">\n",
       "      <th></th>\n",
       "      <th>Unnamed: 0</th>\n",
       "      <th>Id</th>\n",
       "      <th>Label</th>\n",
       "      <th>timeset</th>\n",
       "      <th>degree</th>\n",
       "      <th>modularity_class</th>\n",
       "      <th>vote_average0</th>\n",
       "      <th>diff_signal_node3</th>\n",
       "      <th>vote_average1</th>\n",
       "      <th>diff_signal_node5</th>\n",
       "      <th>vote_average2</th>\n",
       "      <th>diff_signal_node7</th>\n",
       "      <th>vote_average3</th>\n",
       "      <th>diff_signal_node33</th>\n",
       "      <th>vote_average4</th>\n",
       "      <th>diff_signal_node41</th>\n",
       "      <th>vote_average5</th>\n",
       "      <th>diff_signal_node169</th>\n",
       "      <th>vote_average6</th>\n",
       "    </tr>\n",
       "  </thead>\n",
       "  <tbody>\n",
       "    <tr>\n",
       "      <th>0</th>\n",
       "      <td>0</td>\n",
       "      <td>0</td>\n",
       "      <td>0</td>\n",
       "      <td>NaN</td>\n",
       "      <td>51</td>\n",
       "      <td>60</td>\n",
       "      <td>7.0</td>\n",
       "      <td>1.0</td>\n",
       "      <td>7.0</td>\n",
       "      <td>1.0</td>\n",
       "      <td>7.0</td>\n",
       "      <td>1.0</td>\n",
       "      <td>7.0</td>\n",
       "      <td>2.0</td>\n",
       "      <td>7.0</td>\n",
       "      <td>1.0</td>\n",
       "      <td>7.0</td>\n",
       "      <td>2.0</td>\n",
       "      <td>7.0</td>\n",
       "    </tr>\n",
       "    <tr>\n",
       "      <th>1</th>\n",
       "      <td>1</td>\n",
       "      <td>1</td>\n",
       "      <td>1</td>\n",
       "      <td>NaN</td>\n",
       "      <td>70</td>\n",
       "      <td>16</td>\n",
       "      <td>7.0</td>\n",
       "      <td>3.0</td>\n",
       "      <td>7.0</td>\n",
       "      <td>1.0</td>\n",
       "      <td>7.0</td>\n",
       "      <td>1.0</td>\n",
       "      <td>7.0</td>\n",
       "      <td>3.0</td>\n",
       "      <td>7.0</td>\n",
       "      <td>1.0</td>\n",
       "      <td>7.0</td>\n",
       "      <td>1.0</td>\n",
       "      <td>7.0</td>\n",
       "    </tr>\n",
       "    <tr>\n",
       "      <th>2</th>\n",
       "      <td>2</td>\n",
       "      <td>2</td>\n",
       "      <td>2</td>\n",
       "      <td>NaN</td>\n",
       "      <td>32</td>\n",
       "      <td>92</td>\n",
       "      <td>6.0</td>\n",
       "      <td>1.0</td>\n",
       "      <td>6.0</td>\n",
       "      <td>1.0</td>\n",
       "      <td>6.0</td>\n",
       "      <td>1.0</td>\n",
       "      <td>6.0</td>\n",
       "      <td>2.0</td>\n",
       "      <td>6.0</td>\n",
       "      <td>1.0</td>\n",
       "      <td>6.0</td>\n",
       "      <td>1.0</td>\n",
       "      <td>6.0</td>\n",
       "    </tr>\n",
       "    <tr>\n",
       "      <th>3</th>\n",
       "      <td>3</td>\n",
       "      <td>3</td>\n",
       "      <td>3</td>\n",
       "      <td>NaN</td>\n",
       "      <td>91</td>\n",
       "      <td>16</td>\n",
       "      <td>8.0</td>\n",
       "      <td>3.0</td>\n",
       "      <td>10.0</td>\n",
       "      <td>1.0</td>\n",
       "      <td>10.0</td>\n",
       "      <td>1.0</td>\n",
       "      <td>10.0</td>\n",
       "      <td>3.0</td>\n",
       "      <td>10.0</td>\n",
       "      <td>1.0</td>\n",
       "      <td>10.0</td>\n",
       "      <td>1.0</td>\n",
       "      <td>10.0</td>\n",
       "    </tr>\n",
       "    <tr>\n",
       "      <th>4</th>\n",
       "      <td>4</td>\n",
       "      <td>4</td>\n",
       "      <td>4</td>\n",
       "      <td>NaN</td>\n",
       "      <td>8</td>\n",
       "      <td>92</td>\n",
       "      <td>6.0</td>\n",
       "      <td>1.0</td>\n",
       "      <td>6.0</td>\n",
       "      <td>0.0</td>\n",
       "      <td>6.0</td>\n",
       "      <td>1.0</td>\n",
       "      <td>6.0</td>\n",
       "      <td>2.0</td>\n",
       "      <td>6.0</td>\n",
       "      <td>0.0</td>\n",
       "      <td>6.0</td>\n",
       "      <td>1.0</td>\n",
       "      <td>6.0</td>\n",
       "    </tr>\n",
       "  </tbody>\n",
       "</table>\n",
       "</div>"
      ],
      "text/plain": [
       "   Unnamed: 0  Id  Label  timeset  degree  modularity_class  vote_average0  \\\n",
       "0           0   0      0      NaN      51                60            7.0   \n",
       "1           1   1      1      NaN      70                16            7.0   \n",
       "2           2   2      2      NaN      32                92            6.0   \n",
       "3           3   3      3      NaN      91                16            8.0   \n",
       "4           4   4      4      NaN       8                92            6.0   \n",
       "\n",
       "   diff_signal_node3  vote_average1  diff_signal_node5  vote_average2  \\\n",
       "0                1.0            7.0                1.0            7.0   \n",
       "1                3.0            7.0                1.0            7.0   \n",
       "2                1.0            6.0                1.0            6.0   \n",
       "3                3.0           10.0                1.0           10.0   \n",
       "4                1.0            6.0                0.0            6.0   \n",
       "\n",
       "   diff_signal_node7  vote_average3  diff_signal_node33  vote_average4  \\\n",
       "0                1.0            7.0                 2.0            7.0   \n",
       "1                1.0            7.0                 3.0            7.0   \n",
       "2                1.0            6.0                 2.0            6.0   \n",
       "3                1.0           10.0                 3.0           10.0   \n",
       "4                1.0            6.0                 2.0            6.0   \n",
       "\n",
       "   diff_signal_node41  vote_average5  diff_signal_node169  vote_average6  \n",
       "0                 1.0            7.0                  2.0            7.0  \n",
       "1                 1.0            7.0                  1.0            7.0  \n",
       "2                 1.0            6.0                  1.0            6.0  \n",
       "3                 1.0           10.0                  1.0           10.0  \n",
       "4                 0.0            6.0                  1.0            6.0  "
      ]
     },
     "execution_count": 32,
     "metadata": {},
     "output_type": "execute_result"
    }
   ],
   "source": [
    "Graph_Crew_Nodes_Test_1, Final_signal_Crew = Fill_Dataframe(Crew_G, Base_signal, Nodes_Test_1, Source_types_Test_1, 50, Graph_Crew_Nodes)\n",
    "Graph_Crew_Nodes_Test_1.head()"
   ]
  },
  {
   "cell_type": "code",
   "execution_count": 33,
   "metadata": {},
   "outputs": [],
   "source": [
    "Graph_Crew_Nodes_Test_1.to_csv('Dataset_Exports/Crew/Graph_Crew_Nodes_Test_1.csv')"
   ]
  },
  {
   "cell_type": "markdown",
   "metadata": {},
   "source": [
    " "
   ]
  },
  {
   "cell_type": "markdown",
   "metadata": {},
   "source": [
    "## 2 - Fusion of the results"
   ]
  },
  {
   "cell_type": "markdown",
   "metadata": {},
   "source": [
    "Now that we have a new signal for each graph we want to see if there is a efficient way to consider all of them in a single signal. For that we are trying the mean terms by terms of the four signal we have.\n",
    "\n",
    "We add those signals to the dataframe to see its representation on the different graphs."
   ]
  },
  {
   "cell_type": "code",
   "execution_count": 34,
   "metadata": {},
   "outputs": [],
   "source": [
    "Final_signal_Moy = (Final_signal_Cast + Final_signal_First_Role + Final_signal_Genres + Final_signal_Crew) / 4"
   ]
  },
  {
   "cell_type": "code",
   "execution_count": 37,
   "metadata": {},
   "outputs": [],
   "source": [
    "Graph_Cast_Nodes_Test_1['vote_average_final'] = Bin_10_Signal(Final_signal_Moy)\n",
    "Graph_First_Role_Nodes_Test_1['vote_average_final'] = Bin_10_Signal(Final_signal_Moy)\n",
    "Graph_Genres_Nodes_Test_1['vote_average_final'] = Bin_10_Signal(Final_signal_Moy)\n",
    "Graph_Crew_Nodes_Test_1['vote_average_final'] = Bin_10_Signal(Final_signal_Moy)"
   ]
  },
  {
   "cell_type": "code",
   "execution_count": 38,
   "metadata": {},
   "outputs": [],
   "source": [
    "Graph_Cast_Nodes_Test_1.to_csv('Dataset_Exports/Cast/Graph_Cast_Nodes_Test_1.csv')\n",
    "Graph_First_Role_Nodes_Test_1.to_csv('Dataset_Exports/First_Role/Graph_First_Role_Nodes_Test_1.csv')\n",
    "Graph_Genres_Nodes_Test_1.to_csv('Dataset_Exports/Genres/Graph_Genres_Nodes_Test_1.csv')\n",
    "Graph_Crew_Nodes_Test_1.to_csv('Dataset_Exports/Crew/Graph_Crew_Nodes_Test_1.csv')"
   ]
  },
  {
   "cell_type": "markdown",
   "metadata": {},
   "source": [
    " "
   ]
  },
  {
   "cell_type": "markdown",
   "metadata": {},
   "source": [
    "## 3 - Conclusion"
   ]
  },
  {
   "cell_type": "markdown",
   "metadata": {},
   "source": [
    "For this test based on superheroes movies we are quite pleased with the results. The modification on the different graph are correspondinf to what we expected."
   ]
  },
  {
   "cell_type": "markdown",
   "metadata": {},
   "source": [
    "Now we can see the suggestions for our user in regards on the final signal regrouping information from the four graphs."
   ]
  },
  {
   "cell_type": "code",
   "execution_count": 102,
   "metadata": {},
   "outputs": [
    {
     "name": "stdout",
     "output_type": "stream",
     "text": [
      "You might want to take a look at the following movies:\n",
      "- Stiff Upper Lips\n",
      "- Dancer, Texas Pop. 81\n",
      "- Me You and Five Bucks\n",
      "- Little Big Top\n",
      "- Sardaarji\n",
      "- One Man's Hero\n",
      "- The Prisoner of Zenda\n",
      "- Seven Samurai\n",
      "- Princess Mononoke\n",
      "- The Shawshank Redemption\n",
      "- There Goes My Baby\n",
      "- Inception\n",
      "- Scarface\n",
      "- The Lord of the Rings: The Return of the King\n",
      "- Interstellar\n",
      "- Batman: The Dark Knight Returns, Part 2\n",
      "- The Godfather\n",
      "- Star Wars: Clone Wars: Volume 1\n",
      "- The Lord of the Rings: The Fellowship of the Ring\n",
      "- Guardians of the Galaxy\n"
     ]
    }
   ],
   "source": [
    "# The movies suggested by using the mean signal:\n",
    "\n",
    "Find_Movie(Final_signal_Moy, Nodes_Test_1)"
   ]
  },
  {
   "cell_type": "markdown",
   "metadata": {},
   "source": [
    "Among the suggestions of this model we can still find the preferred films of the majority, which makes sense as we haven’t placed a cold source to reduce their vote. But more importantly we can find some superheroes films."
   ]
  },
  {
   "cell_type": "markdown",
   "metadata": {},
   "source": [
    "However they are some parts of the process that needs to be clarified and completed. For instance it could be interesting to add other graphs built from new features. We could also search for other algorithms for our diffusion. We based it on the mean between a base signal and a diffused signal but there might be a more accurate way to see the influence of our vote in the base signal.\n",
    "Moreover as we spoke about Netflix we could also try to had a collaborative filtering algorithm to this method to increase the number of vote to diffuse in a the graphs. It would take into account preferences of users that have the same taste as you.\n",
    "\n",
    "As a conclusion for this project, it is possible to use diffusion on graphs to perform film suggestion."
   ]
  },
  {
   "cell_type": "code",
   "execution_count": null,
   "metadata": {},
   "outputs": [],
   "source": []
  }
 ],
 "metadata": {
  "kernelspec": {
   "display_name": "Python 3",
   "language": "python",
   "name": "python3"
  },
  "language_info": {
   "codemirror_mode": {
    "name": "ipython",
    "version": 3
   },
   "file_extension": ".py",
   "mimetype": "text/x-python",
   "name": "python",
   "nbconvert_exporter": "python",
   "pygments_lexer": "ipython3",
   "version": "3.6.6"
  }
 },
 "nbformat": 4,
 "nbformat_minor": 2
}
