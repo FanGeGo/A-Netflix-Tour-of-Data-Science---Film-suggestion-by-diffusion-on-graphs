{
 "cells": [
  {
   "cell_type": "markdown",
   "metadata": {},
   "source": [
    "# A Netflix Tour of Data Science - Film suggestion by diffusion on graphs\n",
    "# Adjacency - Genres"
   ]
  },
  {
   "cell_type": "markdown",
   "metadata": {},
   "source": [
    " "
   ]
  },
  {
   "cell_type": "markdown",
   "metadata": {},
   "source": [
    "### Students:\n",
    "\n",
    "    * Team     : 17\n",
    "    * Students : Edwige Avignon, Kenneth Nguyen, Pierre Fourcade  \n",
    "    * Dataset  : Kaggle dataset - Films and Crew"
   ]
  },
  {
   "cell_type": "markdown",
   "metadata": {},
   "source": [
    " "
   ]
  },
  {
   "cell_type": "markdown",
   "metadata": {},
   "source": [
    "## About this notebook:\n",
    "\n",
    "This notebook is used to create and export an adjacency matrix built from the genres of the movies.\n",
    "For that we use a dataset regrouping all the needed informations."
   ]
  },
  {
   "cell_type": "markdown",
   "metadata": {},
   "source": [
    "The goal here is to build a graph where the nodes represent the different movies of the dataset we are working with, and the edges are determined from the genres. The edges and their weights must represent how strong is the similarity between two movies, according to their genres.\n",
    "To build a meaningful adjacency matrix from the genres we have taken into account the following points:\n",
    "\n",
    "1. The genres in the dataset are mentioned in a specific order: starting with the most emblematic ones, to the more specific ones.\n",
    "2. If no genres are mentionned in the dataset the movie is considered as isolated (we do not consider no genres as a genre in itself).\n",
    "3. The weights are determined by the order and the number of common genres:\n",
    "    - If the first genre of the movie considered does not match the first or the second genre of the other movie: the nodes are not connected\n",
    "    - If the first genre of the movie considered match the second genre of the other movie and if the second genre of the movie considered match the first genre of the other movie: unit weight\n",
    "    - If only the first genres of the two movies match: 2 x (unit weight)\n",
    "    - If the first and the second genres match one another: 4 x (unit weight)\n",
    "    - If the two genre lists contain more than two genres and are strictly identical : 8 x (unit weight)\n",
    "\n",
    "The important point in the weights is not the value in itself, as we will normalize them afterwards, but the gap between the different levels that we have considered.\n",
    "We can also note that the graph we want to create is undirected."
   ]
  },
  {
   "cell_type": "markdown",
   "metadata": {},
   "source": [
    "## 0 - Libraries, dataset and usefull functions"
   ]
  },
  {
   "cell_type": "code",
   "execution_count": 1,
   "metadata": {},
   "outputs": [],
   "source": [
    "import numpy as np\n",
    "import pandas as pd\n",
    "import pygsp as pg\n",
    "import networkx as nx\n",
    "import matplotlib.pyplot as plt\n",
    "import ast\n",
    "from collections import Counter"
   ]
  },
  {
   "cell_type": "code",
   "execution_count": 2,
   "metadata": {},
   "outputs": [],
   "source": [
    "credits = pd.read_csv('Dataset_Exports/tmdb_5000_credits.csv')\n",
    "movies = pd.read_csv('Dataset_Exports/tmdb_5000_movies.csv')"
   ]
  },
  {
   "cell_type": "code",
   "execution_count": 3,
   "metadata": {},
   "outputs": [],
   "source": [
    "def convert_list(list_dict):\n",
    "    newdict={}\n",
    "    for k,v in [(key,d[key]) for d in \n",
    "    ast.literal_eval(list_dict) for key in d]:\n",
    "        if k not in newdict: newdict[k]=[v]\n",
    "        else: newdict[k].append(v)\n",
    "    return newdict"
   ]
  },
  {
   "cell_type": "code",
   "execution_count": 4,
   "metadata": {},
   "outputs": [],
   "source": [
    "def convert_dict_to_features(x):\n",
    "    try:\n",
    "        return x[k]\n",
    "    except:\n",
    "        return []"
   ]
  },
  {
   "cell_type": "code",
   "execution_count": 5,
   "metadata": {},
   "outputs": [],
   "source": [
    "def all_connected_nodes(adjacency):\n",
    "    connected_nodes = []\n",
    "    for i in range (len(adjacency)):\n",
    "        sum = np.sum(adjacency[i])\n",
    "        if sum != 0:\n",
    "            connected_nodes.append(i)\n",
    "    return np.array(connected_nodes)"
   ]
  },
  {
   "cell_type": "code",
   "execution_count": 6,
   "metadata": {},
   "outputs": [],
   "source": [
    "def remove_isolated_nodes(connected_nodes,adjacency):\n",
    "    adjacency_connected = np.zeros((len(connected_nodes),len(connected_nodes)))\n",
    "    for i in range (len(connected_nodes)):\n",
    "        for j in range (len(connected_nodes)):\n",
    "              adjacency_connected[i,j] = adjacency[connected_nodes[i],[connected_nodes[j]]] \n",
    "    return adjacency_connected"
   ]
  },
  {
   "cell_type": "markdown",
   "metadata": {},
   "source": [
    " "
   ]
  },
  {
   "cell_type": "markdown",
   "metadata": {},
   "source": [
    "## 1 - Adjacency - Genres"
   ]
  },
  {
   "cell_type": "markdown",
   "metadata": {},
   "source": [
    "Let's build the adjacency.\n",
    "\n",
    "For that we need, at first, to extract the genres from the dataset."
   ]
  },
  {
   "cell_type": "code",
   "execution_count": 7,
   "metadata": {},
   "outputs": [],
   "source": [
    "movies.rename(columns={'id':'movie_id'},inplace=True)"
   ]
  },
  {
   "cell_type": "code",
   "execution_count": 8,
   "metadata": {},
   "outputs": [],
   "source": [
    "compact_dict = movies.genres.apply(lambda x: convert_list(x))\n",
    "for (k, v) in compact_dict[0].items():\n",
    "    movies[k] = compact_dict.apply(lambda x: convert_dict_to_features(x))"
   ]
  },
  {
   "cell_type": "code",
   "execution_count": 9,
   "metadata": {},
   "outputs": [],
   "source": [
    "movies.rename(columns={'id':'genres_id', 'name':'genres_name'},inplace=True)\n",
    "movies_restricted = movies[['movie_id', 'title', 'genres_name', 'genres_id',]].copy()"
   ]
  },
  {
   "cell_type": "code",
   "execution_count": 12,
   "metadata": {},
   "outputs": [
    {
     "data": {
      "text/html": [
       "<div>\n",
       "<style scoped>\n",
       "    .dataframe tbody tr th:only-of-type {\n",
       "        vertical-align: middle;\n",
       "    }\n",
       "\n",
       "    .dataframe tbody tr th {\n",
       "        vertical-align: top;\n",
       "    }\n",
       "\n",
       "    .dataframe thead th {\n",
       "        text-align: right;\n",
       "    }\n",
       "</style>\n",
       "<table border=\"1\" class=\"dataframe\">\n",
       "  <thead>\n",
       "    <tr style=\"text-align: right;\">\n",
       "      <th></th>\n",
       "      <th>movie_id</th>\n",
       "      <th>title</th>\n",
       "      <th>genres_name</th>\n",
       "      <th>genres_id</th>\n",
       "    </tr>\n",
       "  </thead>\n",
       "  <tbody>\n",
       "    <tr>\n",
       "      <th>0</th>\n",
       "      <td>19995</td>\n",
       "      <td>Avatar</td>\n",
       "      <td>[Action, Adventure, Fantasy, Science Fiction]</td>\n",
       "      <td>[28, 12, 14, 878]</td>\n",
       "    </tr>\n",
       "    <tr>\n",
       "      <th>1</th>\n",
       "      <td>285</td>\n",
       "      <td>Pirates of the Caribbean: At World's End</td>\n",
       "      <td>[Adventure, Fantasy, Action]</td>\n",
       "      <td>[12, 14, 28]</td>\n",
       "    </tr>\n",
       "    <tr>\n",
       "      <th>2</th>\n",
       "      <td>206647</td>\n",
       "      <td>Spectre</td>\n",
       "      <td>[Action, Adventure, Crime]</td>\n",
       "      <td>[28, 12, 80]</td>\n",
       "    </tr>\n",
       "    <tr>\n",
       "      <th>3</th>\n",
       "      <td>49026</td>\n",
       "      <td>The Dark Knight Rises</td>\n",
       "      <td>[Action, Crime, Drama, Thriller]</td>\n",
       "      <td>[28, 80, 18, 53]</td>\n",
       "    </tr>\n",
       "    <tr>\n",
       "      <th>4</th>\n",
       "      <td>49529</td>\n",
       "      <td>John Carter</td>\n",
       "      <td>[Action, Adventure, Science Fiction]</td>\n",
       "      <td>[28, 12, 878]</td>\n",
       "    </tr>\n",
       "  </tbody>\n",
       "</table>\n",
       "</div>"
      ],
      "text/plain": [
       "   movie_id                                     title  \\\n",
       "0     19995                                    Avatar   \n",
       "1       285  Pirates of the Caribbean: At World's End   \n",
       "2    206647                                   Spectre   \n",
       "3     49026                     The Dark Knight Rises   \n",
       "4     49529                               John Carter   \n",
       "\n",
       "                                     genres_name          genres_id  \n",
       "0  [Action, Adventure, Fantasy, Science Fiction]  [28, 12, 14, 878]  \n",
       "1                   [Adventure, Fantasy, Action]       [12, 14, 28]  \n",
       "2                     [Action, Adventure, Crime]       [28, 12, 80]  \n",
       "3               [Action, Crime, Drama, Thriller]   [28, 80, 18, 53]  \n",
       "4           [Action, Adventure, Science Fiction]      [28, 12, 878]  "
      ]
     },
     "execution_count": 12,
     "metadata": {},
     "output_type": "execute_result"
    }
   ],
   "source": [
    "movies_restricted.head()"
   ]
  },
  {
   "cell_type": "markdown",
   "metadata": {},
   "source": [
    "Now that we have the id of the different genres we can build the top-half of the adjacency. Indeed, as it is symmetrical in regards of the diagonal, it is faster to just mirror the top-half after."
   ]
  },
  {
   "cell_type": "code",
   "execution_count": 11,
   "metadata": {},
   "outputs": [
    {
     "data": {
      "text/plain": [
       "(4803, 4803)"
      ]
     },
     "execution_count": 11,
     "metadata": {},
     "output_type": "execute_result"
    }
   ],
   "source": [
    "adjacency_weighted = np.zeros((len(movies_restricted),len(movies_restricted)))\n",
    "adjacency = np.zeros((len(movies_restricted),len(movies_restricted)))\n",
    "np.shape(adjacency)"
   ]
  },
  {
   "cell_type": "code",
   "execution_count": 12,
   "metadata": {},
   "outputs": [],
   "source": [
    "# We build the top-half of the adjacency:\n",
    "\n",
    "for i in range (len(movies_restricted)): \n",
    "    node = np.array(movies_restricted.genres_id[i])\n",
    "    for j in range (i+1,len(movies_restricted)): \n",
    "        other_node = np.array(movies_restricted.genres_id[j])\n",
    "        if len(node) == 0 or len(other_node) == 0:\n",
    "            adjacency_weighted[i,j] = 0\n",
    "        elif len(node) == 1 or len(other_node) == 1:\n",
    "            if node[0] == other_node[0]:\n",
    "                adjacency_weighted[i,j] = 2\n",
    "            else:\n",
    "                adjacency_weighted[i,j] = 0\n",
    "        elif len(node) == 2 or len(other_node) == 2:\n",
    "            if node[0] == other_node[0]:\n",
    "                if node[1] == other_node[1]:\n",
    "                    adjacency_weighted[i,j] = 4\n",
    "                else:\n",
    "                    adjacency_weighted[i,j] = 2\n",
    "            elif node[1] == other_node[0] and node[0] == other_node[1]:\n",
    "                adjacency_weighted[i,j] = 1\n",
    "            else:\n",
    "                adjacency_weighted[i,j] = 0\n",
    "        else:\n",
    "            if len(node) == len(other_node):\n",
    "                if node[0] == other_node[0]:\n",
    "                    if node[1] == other_node[1]:\n",
    "                        for k in range (2,len(node)):\n",
    "                            if node[k] != other_node[k]:\n",
    "                                equal = False\n",
    "                                break\n",
    "                            else:\n",
    "                                equal = True\n",
    "                        if equal == True:\n",
    "                            adjacency_weighted[i,j] = 8\n",
    "                        else:\n",
    "                            adjacency_weighted[i,j] = 4\n",
    "                    else:\n",
    "                        adjacency_weighted[i,j] = 2\n",
    "                elif node[1] == other_node[0] and node[0] == other_node[1]:\n",
    "                    adjacency_weighted[i,j] = 1\n",
    "                else:\n",
    "                    adjacency_weighted[i,j] = 0\n",
    "            else:\n",
    "                if node[0] == other_node[0]:\n",
    "                    if node[1] == other_node[1]:\n",
    "                        adjacency_weighted[i,j] = 4\n",
    "                    else:\n",
    "                        adjacency_weighted[i,j] = 2\n",
    "                elif node[1] == other_node[0] and node[0] == other_node[1]:\n",
    "                    adjacency_weighted[i,j] = 1\n",
    "                else:\n",
    "                    adjacency_weighted[i,j] = 0      "
   ]
  },
  {
   "cell_type": "code",
   "execution_count": 13,
   "metadata": {},
   "outputs": [
    {
     "data": {
      "text/plain": [
       "<matplotlib.image.AxesImage at 0x197623660f0>"
      ]
     },
     "execution_count": 13,
     "metadata": {},
     "output_type": "execute_result"
    },
    {
     "data": {
      "image/png": "[encoded data removed]",
      "text/plain": [
       "<Figure size 432x288 with 1 Axes>"
      ]
     },
     "metadata": {},
     "output_type": "display_data"
    }
   ],
   "source": [
    "plt.spy(adjacency_weighted)"
   ]
  },
  {
   "cell_type": "markdown",
   "metadata": {},
   "source": [
    "As we can see from this top-half of the adjacency, the graph is very connected. We will use the fully connected graph for the different applications of this project so that we don't loose any information. However, for the sake of the representation on Gephi we have to reduce the number of edges.\n",
    "The idea to reduce the number of edges is to reduce the number of parallel edges. Indeed, for instance each [Action,Adventure] movies are connected to all the [Adventure,Action]. We will try to reduce this kind of edges, only for the sake of representation."
   ]
  },
  {
   "cell_type": "markdown",
   "metadata": {},
   "source": [
    "To reduce the number of parallel edges we will use the following procedure:\n",
    "\n",
    "1. For a node we count the number of edges for the different type of weights.\n",
    "2. For each node and for each type of weights we save 5 edges (randomly) and set to 0 the others."
   ]
  },
  {
   "cell_type": "code",
   "execution_count": 14,
   "metadata": {},
   "outputs": [
    {
     "data": {
      "text/plain": [
       "(4803, 4803)"
      ]
     },
     "execution_count": 14,
     "metadata": {},
     "output_type": "execute_result"
    }
   ],
   "source": [
    "adjacency_weighted_reduced = np.copy(adjacency_weighted)\n",
    "adjacency_reduced = np.zeros((len(adjacency_weighted),len(adjacency_weighted)))\n",
    "np.shape(adjacency_reduced)"
   ]
  },
  {
   "cell_type": "code",
   "execution_count": 15,
   "metadata": {},
   "outputs": [],
   "source": [
    "# We reduce the number of parallel edges:\n",
    "\n",
    "for i in range (len(adjacency_weighted_reduced)):\n",
    "    weight_1 = []\n",
    "    weight_2 = []\n",
    "    weight_4 = []\n",
    "    for j in range (i+1,len(adjacency_weighted_reduced)):\n",
    "        if adjacency_weighted[i,j] == 1:\n",
    "            weight_1.append(j)\n",
    "        elif adjacency_weighted[i,j] == 2:\n",
    "            weight_2.append(j)\n",
    "        elif adjacency_weighted[i,j] == 4:\n",
    "            weight_4.append(j)\n",
    "    if len(weight_1) > 5:\n",
    "        for k in range (len(weight_1)-5):\n",
    "            adjacency_weighted_reduced[i,np.random.choice(weight_1)] = 0\n",
    "    if len(weight_2) > 5:\n",
    "        for k in range (len(weight_2)-5):\n",
    "            adjacency_weighted_reduced[i,np.random.choice(weight_2)] = 0\n",
    "    if len(weight_4) > 5:\n",
    "        for k in range (len(weight_4)-5):\n",
    "            adjacency_weighted_reduced[i,np.random.choice(weight_4)] = 0     "
   ]
  },
  {
   "cell_type": "code",
   "execution_count": 16,
   "metadata": {},
   "outputs": [
    {
     "data": {
      "text/plain": [
       "<matplotlib.image.AxesImage at 0x197016887f0>"
      ]
     },
     "execution_count": 16,
     "metadata": {},
     "output_type": "execute_result"
    },
    {
     "data": {
      "image/png": "[encoded data removed]",
      "text/plain": [
       "<Figure size 432x288 with 1 Axes>"
      ]
     },
     "metadata": {},
     "output_type": "display_data"
    }
   ],
   "source": [
    "plt.spy(adjacency_weighted_reduced)"
   ]
  },
  {
   "cell_type": "markdown",
   "metadata": {},
   "source": [
    "Now, let's complete the adjacency matrices."
   ]
  },
  {
   "cell_type": "code",
   "execution_count": 17,
   "metadata": {},
   "outputs": [],
   "source": [
    "# We complete the low-half of the adjacency:\n",
    "\n",
    "for i in range (len(adjacency_weighted)):\n",
    "    for j in range (i+1,len(adjacency_weighted)):\n",
    "        adjacency_weighted[j,i] = adjacency_weighted[i,j]\n",
    "        \n",
    "for i in range (len(adjacency_weighted_reduced)):\n",
    "    for j in range (i+1,len(adjacency_weighted_reduced)):\n",
    "        adjacency_weighted_reduced[j,i] = adjacency_weighted_reduced[i,j]"
   ]
  },
  {
   "cell_type": "code",
   "execution_count": 18,
   "metadata": {},
   "outputs": [],
   "source": [
    "# We also build an unweighted adjacency:\n",
    "\n",
    "for i in range (len(adjacency)):\n",
    "    for j in range (len(adjacency)):\n",
    "        if adjacency_weighted[i,j] != 0:\n",
    "            adjacency[i,j] = 1\n",
    "            \n",
    "for i in range (len(adjacency_reduced)):\n",
    "    for j in range (len(adjacency_reduced)):\n",
    "        if adjacency_weighted_reduced[i,j] != 0:\n",
    "            adjacency_reduced[i,j] = 1"
   ]
  },
  {
   "cell_type": "code",
   "execution_count": 19,
   "metadata": {},
   "outputs": [],
   "source": [
    "# We save the adjacency matrices:\n",
    "\n",
    "np.savetxt('Dataset_Exports/Genres/Adjacency_Genres_Weighted.txt', adjacency_weighted)\n",
    "np.savetxt('Dataset_Exports/Genres/Adjacency_Genres.txt', adjacency)\n",
    "np.savetxt('Dataset_Exports/Genres/Adjacency_Genres_Weighted_Reduced.txt', adjacency_weighted_reduced)\n",
    "np.savetxt('Dataset_Exports/Genres/Adjacency_Genres_Reduced.txt', adjacency_reduced)"
   ]
  },
  {
   "cell_type": "markdown",
   "metadata": {},
   "source": [
    " "
   ]
  },
  {
   "cell_type": "markdown",
   "metadata": {},
   "source": [
    "We normalize the weights of the adjacency matrices."
   ]
  },
  {
   "cell_type": "code",
   "execution_count": 20,
   "metadata": {},
   "outputs": [],
   "source": [
    "adjacency_weighted_normalized = np.zeros((len(adjacency_weighted),len(adjacency_weighted)))\n",
    "adjacency_weighted_reduced_normalized = np.zeros((len(adjacency_weighted_reduced),len(adjacency_weighted_reduced)))"
   ]
  },
  {
   "cell_type": "code",
   "execution_count": 21,
   "metadata": {},
   "outputs": [],
   "source": [
    "# We normalize the two adjency matrices:\n",
    "\n",
    "max_weight = np.max(adjacency_weighted)\n",
    "\n",
    "for i in range (len(adjacency_weighted_normalized)):\n",
    "    for j in range (len(adjacency_weighted_normalized)):\n",
    "        if adjacency_weighted[i,j] == 0:\n",
    "            adjacency_weighted_normalized[i,j] = 0\n",
    "        else:\n",
    "            adjacency_weighted_normalized[i,j] = adjacency_weighted[i,j]/max_weight\n",
    "\n",
    "for i in range (len(adjacency_weighted_reduced_normalized)):\n",
    "    for j in range (len(adjacency_weighted_reduced_normalized)):\n",
    "        if adjacency_weighted_reduced[i,j] == 0:\n",
    "            adjacency_weighted_reduced_normalized[i,j] = 0\n",
    "        else:\n",
    "            adjacency_weighted_reduced_normalized[i,j] = adjacency_weighted_reduced[i,j]/max_weight"
   ]
  },
  {
   "cell_type": "code",
   "execution_count": 22,
   "metadata": {},
   "outputs": [
    {
     "data": {
      "text/plain": [
       "<matplotlib.image.AxesImage at 0x1972ed33f60>"
      ]
     },
     "execution_count": 22,
     "metadata": {},
     "output_type": "execute_result"
    },
    {
     "data": {
      "image/png": "[encoded data removed]",
      "text/plain": [
       "<Figure size 432x288 with 1 Axes>"
      ]
     },
     "metadata": {},
     "output_type": "display_data"
    }
   ],
   "source": [
    "plt.spy(adjacency_weighted_normalized)"
   ]
  },
  {
   "cell_type": "code",
   "execution_count": 23,
   "metadata": {},
   "outputs": [
    {
     "data": {
      "text/plain": [
       "<matplotlib.image.AxesImage at 0x1973039f908>"
      ]
     },
     "execution_count": 23,
     "metadata": {},
     "output_type": "execute_result"
    },
    {
     "data": {
      "image/png": "[encoded data removed]",
      "text/plain": [
       "<Figure size 432x288 with 1 Axes>"
      ]
     },
     "metadata": {},
     "output_type": "display_data"
    }
   ],
   "source": [
    "plt.spy(adjacency_weighted_reduced_normalized)"
   ]
  },
  {
   "cell_type": "code",
   "execution_count": 24,
   "metadata": {},
   "outputs": [],
   "source": [
    "# We save the normalized adjacency matrices:\n",
    "\n",
    "np.savetxt('Dataset_Exports/Genres/Adjacency_Genres_Weighted_Normalized.txt', adjacency_weighted_normalized)\n",
    "np.savetxt('Dataset_Exports/Genres/Adjacency_Genres_Weighted_Reduced_Normalized.txt', adjacency_weighted_reduced_normalized)"
   ]
  },
  {
   "cell_type": "markdown",
   "metadata": {},
   "source": [
    " "
   ]
  },
  {
   "cell_type": "markdown",
   "metadata": {},
   "source": [
    "## 2 - Exporting the graph for Gephi (by using Networkx)"
   ]
  },
  {
   "cell_type": "markdown",
   "metadata": {},
   "source": [
    "Now we will create the graph of the reduced adjacency we have built. We can quickly represent it here with Networkx but the core of our observations will be made with Gephi."
   ]
  },
  {
   "cell_type": "code",
   "execution_count": 25,
   "metadata": {},
   "outputs": [],
   "source": [
    "adjacency_weighted_normalized = np.loadtxt('Dataset_Exports/Genres/Adjacency_Genres_Weighted_Normalized.txt')\n",
    "adjacency_weighted_reduced_normalized = np.loadtxt('Dataset_Exports/Genres/Adjacency_Genres_Weighted_Reduced_Normalized.txt')"
   ]
  },
  {
   "cell_type": "code",
   "execution_count": 26,
   "metadata": {},
   "outputs": [],
   "source": [
    "Graph = nx.from_numpy_array(adjacency_weighted_reduced_normalized)"
   ]
  },
  {
   "cell_type": "code",
   "execution_count": 27,
   "metadata": {},
   "outputs": [
    {
     "name": "stderr",
     "output_type": "stream",
     "text": [
      "D:\\Programmes_DD\\Applications\\Anaconda3\\envs\\ntds_2018\\lib\\site-packages\\networkx\\drawing\\nx_pylab.py:611: MatplotlibDeprecationWarning: isinstance(..., numbers.Number)\n",
      "  if cb.is_numlike(alpha):\n"
     ]
    },
    {
     "data": {
      "image/png": "[encoded data removed]",
      "text/plain": [
       "<Figure size 432x288 with 1 Axes>"
      ]
     },
     "metadata": {},
     "output_type": "display_data"
    }
   ],
   "source": [
    "nx.draw_spring(Graph)"
   ]
  },
  {
   "cell_type": "code",
   "execution_count": 28,
   "metadata": {},
   "outputs": [],
   "source": [
    "nx.write_gexf(Graph,'Dataset_Exports/Genres/Graph_Genres.gexf')"
   ]
  },
  {
   "cell_type": "code",
   "execution_count": null,
   "metadata": {},
   "outputs": [],
   "source": []
  }
 ],
 "metadata": {
  "kernelspec": {
   "display_name": "Python 3",
   "language": "python",
   "name": "python3"
  },
  "language_info": {
   "codemirror_mode": {
    "name": "ipython",
    "version": 3
   },
   "file_extension": ".py",
   "mimetype": "text/x-python",
   "name": "python",
   "nbconvert_exporter": "python",
   "pygments_lexer": "ipython3",
   "version": "3.6.6"
  }
 },
 "nbformat": 4,
 "nbformat_minor": 2
}
